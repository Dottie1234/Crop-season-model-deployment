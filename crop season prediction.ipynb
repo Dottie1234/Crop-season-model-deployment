{
 "cells": [
  {
   "cell_type": "markdown",
   "metadata": {},
   "source": [
    "# Crop season prediction and deployment"
   ]
  },
  {
   "cell_type": "code",
   "execution_count": 10,
   "metadata": {
    "execution": {
     "iopub.execute_input": "2023-11-27T06:31:50.481763Z",
     "iopub.status.busy": "2023-11-27T06:31:50.481354Z",
     "iopub.status.idle": "2023-11-27T06:31:53.432230Z",
     "shell.execute_reply": "2023-11-27T06:31:53.431365Z",
     "shell.execute_reply.started": "2023-11-27T06:31:50.481734Z"
    }
   },
   "outputs": [],
   "source": [
    "# importing important libraries\n",
    "import pandas as pd\n",
    "import numpy as np\n",
    "import matplotlib.pyplot as plt\n",
    "import seaborn as sn\n",
    "\n",
    "from sklearn.model_selection import train_test_split\n",
    "from sklearn.preprocessing import StandardScaler, OneHotEncoder\n",
    "from sklearn.ensemble import RandomForestClassifier, ExtraTreesClassifier, GradientBoostingClassifier\n",
    "from sklearn.svm import SVC\n",
    "from sklearn.metrics import accuracy_score, confusion_matrix, classification_report, recall_score, f1_score\n",
    "from sklearn.linear_model import LogisticRegression\n",
    "from sklearn.ensemble import RandomForestClassifier\n",
    "from catboost import CatBoostClassifier\n",
    "from sklearn.naive_bayes import GaussianNB\n",
    "from sklearn.pipeline import Pipeline\n",
    "\n",
    "import optuna\n",
    "import pickle\n",
    "import joblib\n",
    "\n",
    "import warnings\n",
    "warnings.filterwarnings('ignore')"
   ]
  },
  {
   "cell_type": "code",
   "execution_count": 11,
   "metadata": {
    "execution": {
     "iopub.execute_input": "2023-11-27T06:31:53.434335Z",
     "iopub.status.busy": "2023-11-27T06:31:53.433888Z",
     "iopub.status.idle": "2023-11-27T06:31:53.482743Z",
     "shell.execute_reply": "2023-11-27T06:31:53.481966Z",
     "shell.execute_reply.started": "2023-11-27T06:31:53.434294Z"
    }
   },
   "outputs": [
    {
     "data": {
      "text/html": [
       "<div>\n",
       "<style scoped>\n",
       "    .dataframe tbody tr th:only-of-type {\n",
       "        vertical-align: middle;\n",
       "    }\n",
       "\n",
       "    .dataframe tbody tr th {\n",
       "        vertical-align: top;\n",
       "    }\n",
       "\n",
       "    .dataframe thead th {\n",
       "        text-align: right;\n",
       "    }\n",
       "</style>\n",
       "<table border=\"1\" class=\"dataframe\">\n",
       "  <thead>\n",
       "    <tr style=\"text-align: right;\">\n",
       "      <th></th>\n",
       "      <th>temperature</th>\n",
       "      <th>humidity</th>\n",
       "      <th>ph</th>\n",
       "      <th>water availability</th>\n",
       "      <th>harvest season</th>\n",
       "      <th>label</th>\n",
       "      <th>Country</th>\n",
       "    </tr>\n",
       "  </thead>\n",
       "  <tbody>\n",
       "    <tr>\n",
       "      <th>0</th>\n",
       "      <td>20.879744</td>\n",
       "      <td>82.002744</td>\n",
       "      <td>6.502985</td>\n",
       "      <td>202.935536</td>\n",
       "      <td>rainy</td>\n",
       "      <td>rice</td>\n",
       "      <td>Nigeria</td>\n",
       "    </tr>\n",
       "    <tr>\n",
       "      <th>1</th>\n",
       "      <td>21.770462</td>\n",
       "      <td>80.319644</td>\n",
       "      <td>7.038096</td>\n",
       "      <td>226.655537</td>\n",
       "      <td>rainy</td>\n",
       "      <td>rice</td>\n",
       "      <td>Nigeria</td>\n",
       "    </tr>\n",
       "    <tr>\n",
       "      <th>2</th>\n",
       "      <td>23.004459</td>\n",
       "      <td>82.320763</td>\n",
       "      <td>7.840207</td>\n",
       "      <td>263.964248</td>\n",
       "      <td>rainy</td>\n",
       "      <td>rice</td>\n",
       "      <td>Nigeria</td>\n",
       "    </tr>\n",
       "    <tr>\n",
       "      <th>3</th>\n",
       "      <td>26.491096</td>\n",
       "      <td>80.158363</td>\n",
       "      <td>6.980401</td>\n",
       "      <td>242.864034</td>\n",
       "      <td>rainy</td>\n",
       "      <td>rice</td>\n",
       "      <td>Nigeria</td>\n",
       "    </tr>\n",
       "    <tr>\n",
       "      <th>4</th>\n",
       "      <td>20.130175</td>\n",
       "      <td>81.604873</td>\n",
       "      <td>7.628473</td>\n",
       "      <td>262.717340</td>\n",
       "      <td>rainy</td>\n",
       "      <td>rice</td>\n",
       "      <td>Nigeria</td>\n",
       "    </tr>\n",
       "    <tr>\n",
       "      <th>...</th>\n",
       "      <td>...</td>\n",
       "      <td>...</td>\n",
       "      <td>...</td>\n",
       "      <td>...</td>\n",
       "      <td>...</td>\n",
       "      <td>...</td>\n",
       "      <td>...</td>\n",
       "    </tr>\n",
       "    <tr>\n",
       "      <th>1395</th>\n",
       "      <td>23.874845</td>\n",
       "      <td>86.792613</td>\n",
       "      <td>6.718725</td>\n",
       "      <td>177.514731</td>\n",
       "      <td>rainy</td>\n",
       "      <td>jute</td>\n",
       "      <td>South Africa</td>\n",
       "    </tr>\n",
       "    <tr>\n",
       "      <th>1396</th>\n",
       "      <td>23.928879</td>\n",
       "      <td>88.071123</td>\n",
       "      <td>6.880205</td>\n",
       "      <td>154.660874</td>\n",
       "      <td>rainy</td>\n",
       "      <td>jute</td>\n",
       "      <td>South Africa</td>\n",
       "    </tr>\n",
       "    <tr>\n",
       "      <th>1397</th>\n",
       "      <td>24.814412</td>\n",
       "      <td>81.686889</td>\n",
       "      <td>6.861069</td>\n",
       "      <td>190.788639</td>\n",
       "      <td>rainy</td>\n",
       "      <td>jute</td>\n",
       "      <td>Nigeria</td>\n",
       "    </tr>\n",
       "    <tr>\n",
       "      <th>1398</th>\n",
       "      <td>24.447439</td>\n",
       "      <td>82.286484</td>\n",
       "      <td>6.769346</td>\n",
       "      <td>190.968489</td>\n",
       "      <td>rainy</td>\n",
       "      <td>jute</td>\n",
       "      <td>Nigeria</td>\n",
       "    </tr>\n",
       "    <tr>\n",
       "      <th>1399</th>\n",
       "      <td>26.574217</td>\n",
       "      <td>73.819949</td>\n",
       "      <td>7.261581</td>\n",
       "      <td>159.322307</td>\n",
       "      <td>rainy</td>\n",
       "      <td>jute</td>\n",
       "      <td>South Africa</td>\n",
       "    </tr>\n",
       "  </tbody>\n",
       "</table>\n",
       "<p>1400 rows × 7 columns</p>\n",
       "</div>"
      ],
      "text/plain": [
       "      temperature   humidity        ph  water availability harvest season  \\\n",
       "0       20.879744  82.002744  6.502985          202.935536          rainy   \n",
       "1       21.770462  80.319644  7.038096          226.655537          rainy   \n",
       "2       23.004459  82.320763  7.840207          263.964248          rainy   \n",
       "3       26.491096  80.158363  6.980401          242.864034          rainy   \n",
       "4       20.130175  81.604873  7.628473          262.717340          rainy   \n",
       "...           ...        ...       ...                 ...            ...   \n",
       "1395    23.874845  86.792613  6.718725          177.514731          rainy   \n",
       "1396    23.928879  88.071123  6.880205          154.660874          rainy   \n",
       "1397    24.814412  81.686889  6.861069          190.788639          rainy   \n",
       "1398    24.447439  82.286484  6.769346          190.968489          rainy   \n",
       "1399    26.574217  73.819949  7.261581          159.322307          rainy   \n",
       "\n",
       "     label       Country  \n",
       "0     rice       Nigeria  \n",
       "1     rice       Nigeria  \n",
       "2     rice       Nigeria  \n",
       "3     rice       Nigeria  \n",
       "4     rice       Nigeria  \n",
       "...    ...           ...  \n",
       "1395  jute  South Africa  \n",
       "1396  jute  South Africa  \n",
       "1397  jute       Nigeria  \n",
       "1398  jute       Nigeria  \n",
       "1399  jute  South Africa  \n",
       "\n",
       "[1400 rows x 7 columns]"
      ]
     },
     "execution_count": 11,
     "metadata": {},
     "output_type": "execute_result"
    }
   ],
   "source": [
    "data = pd.read_csv('Crop_Data.csv')\n",
    "data"
   ]
  },
  {
   "cell_type": "code",
   "execution_count": 12,
   "metadata": {},
   "outputs": [
    {
     "data": {
      "text/html": [
       "<div>\n",
       "<style scoped>\n",
       "    .dataframe tbody tr th:only-of-type {\n",
       "        vertical-align: middle;\n",
       "    }\n",
       "\n",
       "    .dataframe tbody tr th {\n",
       "        vertical-align: top;\n",
       "    }\n",
       "\n",
       "    .dataframe thead th {\n",
       "        text-align: right;\n",
       "    }\n",
       "</style>\n",
       "<table border=\"1\" class=\"dataframe\">\n",
       "  <thead>\n",
       "    <tr style=\"text-align: right;\">\n",
       "      <th></th>\n",
       "      <th>temperature</th>\n",
       "      <th>humidity</th>\n",
       "      <th>ph</th>\n",
       "      <th>water availability</th>\n",
       "      <th>harvest season</th>\n",
       "      <th>label</th>\n",
       "      <th>Country</th>\n",
       "    </tr>\n",
       "  </thead>\n",
       "  <tbody>\n",
       "    <tr>\n",
       "      <th>500</th>\n",
       "      <td>27.910952</td>\n",
       "      <td>64.709306</td>\n",
       "      <td>3.692864</td>\n",
       "      <td>32.678919</td>\n",
       "      <td>summer</td>\n",
       "      <td>mothbeans</td>\n",
       "      <td>Nigeria</td>\n",
       "    </tr>\n",
       "    <tr>\n",
       "      <th>501</th>\n",
       "      <td>27.322206</td>\n",
       "      <td>51.278688</td>\n",
       "      <td>4.371746</td>\n",
       "      <td>36.503791</td>\n",
       "      <td>summer</td>\n",
       "      <td>mothbeans</td>\n",
       "      <td>Nigeria</td>\n",
       "    </tr>\n",
       "    <tr>\n",
       "      <th>502</th>\n",
       "      <td>28.660242</td>\n",
       "      <td>59.318912</td>\n",
       "      <td>8.399136</td>\n",
       "      <td>36.926297</td>\n",
       "      <td>summer</td>\n",
       "      <td>mothbeans</td>\n",
       "      <td>Nigeria</td>\n",
       "    </tr>\n",
       "    <tr>\n",
       "      <th>503</th>\n",
       "      <td>29.029553</td>\n",
       "      <td>61.093875</td>\n",
       "      <td>8.840656</td>\n",
       "      <td>72.980166</td>\n",
       "      <td>summer</td>\n",
       "      <td>mothbeans</td>\n",
       "      <td>South Africa</td>\n",
       "    </tr>\n",
       "    <tr>\n",
       "      <th>504</th>\n",
       "      <td>27.780315</td>\n",
       "      <td>54.650300</td>\n",
       "      <td>8.153023</td>\n",
       "      <td>32.050253</td>\n",
       "      <td>summer</td>\n",
       "      <td>mothbeans</td>\n",
       "      <td>Nigeria</td>\n",
       "    </tr>\n",
       "    <tr>\n",
       "      <th>...</th>\n",
       "      <td>...</td>\n",
       "      <td>...</td>\n",
       "      <td>...</td>\n",
       "      <td>...</td>\n",
       "      <td>...</td>\n",
       "      <td>...</td>\n",
       "      <td>...</td>\n",
       "    </tr>\n",
       "    <tr>\n",
       "      <th>1195</th>\n",
       "      <td>29.527531</td>\n",
       "      <td>94.574594</td>\n",
       "      <td>6.700338</td>\n",
       "      <td>21.135457</td>\n",
       "      <td>summer</td>\n",
       "      <td>muskmelon</td>\n",
       "      <td>Kenya</td>\n",
       "    </tr>\n",
       "    <tr>\n",
       "      <th>1196</th>\n",
       "      <td>28.504164</td>\n",
       "      <td>93.468065</td>\n",
       "      <td>6.565313</td>\n",
       "      <td>24.200072</td>\n",
       "      <td>summer</td>\n",
       "      <td>muskmelon</td>\n",
       "      <td>Nigeria</td>\n",
       "    </tr>\n",
       "    <tr>\n",
       "      <th>1197</th>\n",
       "      <td>28.895786</td>\n",
       "      <td>94.789930</td>\n",
       "      <td>6.286515</td>\n",
       "      <td>23.036250</td>\n",
       "      <td>summer</td>\n",
       "      <td>muskmelon</td>\n",
       "      <td>Nigeria</td>\n",
       "    </tr>\n",
       "    <tr>\n",
       "      <th>1198</th>\n",
       "      <td>27.049275</td>\n",
       "      <td>91.382173</td>\n",
       "      <td>6.448062</td>\n",
       "      <td>23.657475</td>\n",
       "      <td>summer</td>\n",
       "      <td>muskmelon</td>\n",
       "      <td>South Africa</td>\n",
       "    </tr>\n",
       "    <tr>\n",
       "      <th>1199</th>\n",
       "      <td>28.960179</td>\n",
       "      <td>91.695322</td>\n",
       "      <td>6.585873</td>\n",
       "      <td>24.745820</td>\n",
       "      <td>summer</td>\n",
       "      <td>muskmelon</td>\n",
       "      <td>South Africa</td>\n",
       "    </tr>\n",
       "  </tbody>\n",
       "</table>\n",
       "<p>300 rows × 7 columns</p>\n",
       "</div>"
      ],
      "text/plain": [
       "      temperature   humidity        ph  water availability harvest season  \\\n",
       "500     27.910952  64.709306  3.692864           32.678919         summer   \n",
       "501     27.322206  51.278688  4.371746           36.503791         summer   \n",
       "502     28.660242  59.318912  8.399136           36.926297         summer   \n",
       "503     29.029553  61.093875  8.840656           72.980166         summer   \n",
       "504     27.780315  54.650300  8.153023           32.050253         summer   \n",
       "...           ...        ...       ...                 ...            ...   \n",
       "1195    29.527531  94.574594  6.700338           21.135457         summer   \n",
       "1196    28.504164  93.468065  6.565313           24.200072         summer   \n",
       "1197    28.895786  94.789930  6.286515           23.036250         summer   \n",
       "1198    27.049275  91.382173  6.448062           23.657475         summer   \n",
       "1199    28.960179  91.695322  6.585873           24.745820         summer   \n",
       "\n",
       "          label       Country  \n",
       "500   mothbeans       Nigeria  \n",
       "501   mothbeans       Nigeria  \n",
       "502   mothbeans       Nigeria  \n",
       "503   mothbeans  South Africa  \n",
       "504   mothbeans       Nigeria  \n",
       "...         ...           ...  \n",
       "1195  muskmelon         Kenya  \n",
       "1196  muskmelon       Nigeria  \n",
       "1197  muskmelon       Nigeria  \n",
       "1198  muskmelon  South Africa  \n",
       "1199  muskmelon  South Africa  \n",
       "\n",
       "[300 rows x 7 columns]"
      ]
     },
     "execution_count": 12,
     "metadata": {},
     "output_type": "execute_result"
    }
   ],
   "source": [
    "data.loc[data['harvest season'] == 'summer']"
   ]
  },
  {
   "cell_type": "code",
   "execution_count": 13,
   "metadata": {
    "scrolled": true
   },
   "outputs": [
    {
     "name": "stdout",
     "output_type": "stream",
     "text": [
      "temperature\n",
      "25.337977    2\n",
      "21.869274    2\n",
      "23.391282    2\n",
      "18.419330    2\n",
      "20.273171    2\n",
      "            ..\n",
      "20.046118    1\n",
      "19.542849    1\n",
      "29.650529    1\n",
      "29.377356    1\n",
      "26.574217    1\n",
      "Name: count, Length: 1300, dtype: int64\n",
      "humidity\n",
      "68.498360    2\n",
      "61.910449    2\n",
      "61.744272    2\n",
      "64.235803    2\n",
      "63.912819    2\n",
      "            ..\n",
      "48.939056    1\n",
      "66.347773    1\n",
      "42.898332    1\n",
      "44.822946    1\n",
      "73.819949    1\n",
      "Name: count, Length: 1300, dtype: int64\n",
      "ph\n",
      "6.586245    2\n",
      "5.850440    2\n",
      "5.871648    2\n",
      "6.474477    2\n",
      "6.439072    2\n",
      "           ..\n",
      "4.567446    1\n",
      "6.151029    1\n",
      "6.876573    1\n",
      "6.842744    1\n",
      "7.261581    1\n",
      "Name: count, Length: 1300, dtype: int64\n",
      "water availability\n",
      "96.463802     2\n",
      "107.268193    2\n",
      "107.319813    2\n",
      "76.413124     2\n",
      "62.503519     2\n",
      "             ..\n",
      "122.456420    1\n",
      "173.110698    1\n",
      "186.922605    1\n",
      "172.401680    1\n",
      "159.322307    1\n",
      "Name: count, Length: 1300, dtype: int64\n",
      "harvest season\n",
      "rainy     600\n",
      "winter    400\n",
      "summer    300\n",
      "spring    100\n",
      "Name: count, dtype: int64\n",
      "label\n",
      "maize          200\n",
      "rice           100\n",
      "chickpea       100\n",
      "kidneybeans    100\n",
      "pigeonpeas     100\n",
      "mothbeans      100\n",
      "mungbean       100\n",
      "blackgram      100\n",
      "lentil         100\n",
      "watermelon     100\n",
      "muskmelon      100\n",
      "cotton         100\n",
      "jute           100\n",
      "Name: count, dtype: int64\n",
      "Country\n",
      "Nigeria         713\n",
      "South Africa    468\n",
      "Kenya           155\n",
      "Sudan            64\n",
      "Name: count, dtype: int64\n"
     ]
    }
   ],
   "source": [
    "for feature in data.columns:\n",
    "    print(data[feature].value_counts())"
   ]
  },
  {
   "cell_type": "code",
   "execution_count": 14,
   "metadata": {},
   "outputs": [
    {
     "data": {
      "text/html": [
       "<div>\n",
       "<style scoped>\n",
       "    .dataframe tbody tr th:only-of-type {\n",
       "        vertical-align: middle;\n",
       "    }\n",
       "\n",
       "    .dataframe tbody tr th {\n",
       "        vertical-align: top;\n",
       "    }\n",
       "\n",
       "    .dataframe thead th {\n",
       "        text-align: right;\n",
       "    }\n",
       "</style>\n",
       "<table border=\"1\" class=\"dataframe\">\n",
       "  <thead>\n",
       "    <tr style=\"text-align: right;\">\n",
       "      <th></th>\n",
       "      <th>temperature</th>\n",
       "      <th>humidity</th>\n",
       "      <th>ph</th>\n",
       "      <th>water availability</th>\n",
       "    </tr>\n",
       "  </thead>\n",
       "  <tbody>\n",
       "    <tr>\n",
       "      <th>count</th>\n",
       "      <td>1400.000000</td>\n",
       "      <td>1400.000000</td>\n",
       "      <td>1400.000000</td>\n",
       "      <td>1400.000000</td>\n",
       "    </tr>\n",
       "    <tr>\n",
       "      <th>mean</th>\n",
       "      <td>24.971621</td>\n",
       "      <td>64.611062</td>\n",
       "      <td>6.565246</td>\n",
       "      <td>91.784651</td>\n",
       "    </tr>\n",
       "    <tr>\n",
       "      <th>std</th>\n",
       "      <td>4.081622</td>\n",
       "      <td>22.753785</td>\n",
       "      <td>0.835101</td>\n",
       "      <td>58.682258</td>\n",
       "    </tr>\n",
       "    <tr>\n",
       "      <th>min</th>\n",
       "      <td>15.330426</td>\n",
       "      <td>14.258040</td>\n",
       "      <td>3.504752</td>\n",
       "      <td>20.211267</td>\n",
       "    </tr>\n",
       "    <tr>\n",
       "      <th>25%</th>\n",
       "      <td>22.178239</td>\n",
       "      <td>56.824217</td>\n",
       "      <td>6.068795</td>\n",
       "      <td>51.546542</td>\n",
       "    </tr>\n",
       "    <tr>\n",
       "      <th>50%</th>\n",
       "      <td>25.140245</td>\n",
       "      <td>68.288321</td>\n",
       "      <td>6.524478</td>\n",
       "      <td>72.379183</td>\n",
       "    </tr>\n",
       "    <tr>\n",
       "      <th>75%</th>\n",
       "      <td>27.963227</td>\n",
       "      <td>82.710409</td>\n",
       "      <td>7.042343</td>\n",
       "      <td>107.428334</td>\n",
       "    </tr>\n",
       "    <tr>\n",
       "      <th>max</th>\n",
       "      <td>36.977944</td>\n",
       "      <td>94.962187</td>\n",
       "      <td>9.935091</td>\n",
       "      <td>298.560117</td>\n",
       "    </tr>\n",
       "  </tbody>\n",
       "</table>\n",
       "</div>"
      ],
      "text/plain": [
       "       temperature     humidity           ph  water availability\n",
       "count  1400.000000  1400.000000  1400.000000         1400.000000\n",
       "mean     24.971621    64.611062     6.565246           91.784651\n",
       "std       4.081622    22.753785     0.835101           58.682258\n",
       "min      15.330426    14.258040     3.504752           20.211267\n",
       "25%      22.178239    56.824217     6.068795           51.546542\n",
       "50%      25.140245    68.288321     6.524478           72.379183\n",
       "75%      27.963227    82.710409     7.042343          107.428334\n",
       "max      36.977944    94.962187     9.935091          298.560117"
      ]
     },
     "execution_count": 14,
     "metadata": {},
     "output_type": "execute_result"
    }
   ],
   "source": [
    "data.describe()"
   ]
  },
  {
   "cell_type": "code",
   "execution_count": 15,
   "metadata": {
    "execution": {
     "iopub.execute_input": "2023-11-27T06:31:53.484429Z",
     "iopub.status.busy": "2023-11-27T06:31:53.483936Z",
     "iopub.status.idle": "2023-11-27T06:31:53.505454Z",
     "shell.execute_reply": "2023-11-27T06:31:53.504379Z",
     "shell.execute_reply.started": "2023-11-27T06:31:53.484393Z"
    }
   },
   "outputs": [
    {
     "data": {
      "text/html": [
       "<div>\n",
       "<style scoped>\n",
       "    .dataframe tbody tr th:only-of-type {\n",
       "        vertical-align: middle;\n",
       "    }\n",
       "\n",
       "    .dataframe tbody tr th {\n",
       "        vertical-align: top;\n",
       "    }\n",
       "\n",
       "    .dataframe thead th {\n",
       "        text-align: right;\n",
       "    }\n",
       "</style>\n",
       "<table border=\"1\" class=\"dataframe\">\n",
       "  <thead>\n",
       "    <tr style=\"text-align: right;\">\n",
       "      <th></th>\n",
       "      <th>temperature</th>\n",
       "      <th>humidity</th>\n",
       "      <th>ph</th>\n",
       "      <th>water_availability</th>\n",
       "      <th>harvest_season</th>\n",
       "      <th>crop</th>\n",
       "      <th>country</th>\n",
       "    </tr>\n",
       "  </thead>\n",
       "  <tbody>\n",
       "    <tr>\n",
       "      <th>0</th>\n",
       "      <td>20.879744</td>\n",
       "      <td>82.002744</td>\n",
       "      <td>6.502985</td>\n",
       "      <td>202.935536</td>\n",
       "      <td>rainy</td>\n",
       "      <td>rice</td>\n",
       "      <td>Nigeria</td>\n",
       "    </tr>\n",
       "    <tr>\n",
       "      <th>1</th>\n",
       "      <td>21.770462</td>\n",
       "      <td>80.319644</td>\n",
       "      <td>7.038096</td>\n",
       "      <td>226.655537</td>\n",
       "      <td>rainy</td>\n",
       "      <td>rice</td>\n",
       "      <td>Nigeria</td>\n",
       "    </tr>\n",
       "    <tr>\n",
       "      <th>2</th>\n",
       "      <td>23.004459</td>\n",
       "      <td>82.320763</td>\n",
       "      <td>7.840207</td>\n",
       "      <td>263.964248</td>\n",
       "      <td>rainy</td>\n",
       "      <td>rice</td>\n",
       "      <td>Nigeria</td>\n",
       "    </tr>\n",
       "    <tr>\n",
       "      <th>3</th>\n",
       "      <td>26.491096</td>\n",
       "      <td>80.158363</td>\n",
       "      <td>6.980401</td>\n",
       "      <td>242.864034</td>\n",
       "      <td>rainy</td>\n",
       "      <td>rice</td>\n",
       "      <td>Nigeria</td>\n",
       "    </tr>\n",
       "    <tr>\n",
       "      <th>4</th>\n",
       "      <td>20.130175</td>\n",
       "      <td>81.604873</td>\n",
       "      <td>7.628473</td>\n",
       "      <td>262.717340</td>\n",
       "      <td>rainy</td>\n",
       "      <td>rice</td>\n",
       "      <td>Nigeria</td>\n",
       "    </tr>\n",
       "    <tr>\n",
       "      <th>...</th>\n",
       "      <td>...</td>\n",
       "      <td>...</td>\n",
       "      <td>...</td>\n",
       "      <td>...</td>\n",
       "      <td>...</td>\n",
       "      <td>...</td>\n",
       "      <td>...</td>\n",
       "    </tr>\n",
       "    <tr>\n",
       "      <th>1395</th>\n",
       "      <td>23.874845</td>\n",
       "      <td>86.792613</td>\n",
       "      <td>6.718725</td>\n",
       "      <td>177.514731</td>\n",
       "      <td>rainy</td>\n",
       "      <td>jute</td>\n",
       "      <td>South Africa</td>\n",
       "    </tr>\n",
       "    <tr>\n",
       "      <th>1396</th>\n",
       "      <td>23.928879</td>\n",
       "      <td>88.071123</td>\n",
       "      <td>6.880205</td>\n",
       "      <td>154.660874</td>\n",
       "      <td>rainy</td>\n",
       "      <td>jute</td>\n",
       "      <td>South Africa</td>\n",
       "    </tr>\n",
       "    <tr>\n",
       "      <th>1397</th>\n",
       "      <td>24.814412</td>\n",
       "      <td>81.686889</td>\n",
       "      <td>6.861069</td>\n",
       "      <td>190.788639</td>\n",
       "      <td>rainy</td>\n",
       "      <td>jute</td>\n",
       "      <td>Nigeria</td>\n",
       "    </tr>\n",
       "    <tr>\n",
       "      <th>1398</th>\n",
       "      <td>24.447439</td>\n",
       "      <td>82.286484</td>\n",
       "      <td>6.769346</td>\n",
       "      <td>190.968489</td>\n",
       "      <td>rainy</td>\n",
       "      <td>jute</td>\n",
       "      <td>Nigeria</td>\n",
       "    </tr>\n",
       "    <tr>\n",
       "      <th>1399</th>\n",
       "      <td>26.574217</td>\n",
       "      <td>73.819949</td>\n",
       "      <td>7.261581</td>\n",
       "      <td>159.322307</td>\n",
       "      <td>rainy</td>\n",
       "      <td>jute</td>\n",
       "      <td>South Africa</td>\n",
       "    </tr>\n",
       "  </tbody>\n",
       "</table>\n",
       "<p>1400 rows × 7 columns</p>\n",
       "</div>"
      ],
      "text/plain": [
       "      temperature   humidity        ph  water_availability harvest_season  \\\n",
       "0       20.879744  82.002744  6.502985          202.935536          rainy   \n",
       "1       21.770462  80.319644  7.038096          226.655537          rainy   \n",
       "2       23.004459  82.320763  7.840207          263.964248          rainy   \n",
       "3       26.491096  80.158363  6.980401          242.864034          rainy   \n",
       "4       20.130175  81.604873  7.628473          262.717340          rainy   \n",
       "...           ...        ...       ...                 ...            ...   \n",
       "1395    23.874845  86.792613  6.718725          177.514731          rainy   \n",
       "1396    23.928879  88.071123  6.880205          154.660874          rainy   \n",
       "1397    24.814412  81.686889  6.861069          190.788639          rainy   \n",
       "1398    24.447439  82.286484  6.769346          190.968489          rainy   \n",
       "1399    26.574217  73.819949  7.261581          159.322307          rainy   \n",
       "\n",
       "      crop       country  \n",
       "0     rice       Nigeria  \n",
       "1     rice       Nigeria  \n",
       "2     rice       Nigeria  \n",
       "3     rice       Nigeria  \n",
       "4     rice       Nigeria  \n",
       "...    ...           ...  \n",
       "1395  jute  South Africa  \n",
       "1396  jute  South Africa  \n",
       "1397  jute       Nigeria  \n",
       "1398  jute       Nigeria  \n",
       "1399  jute  South Africa  \n",
       "\n",
       "[1400 rows x 7 columns]"
      ]
     },
     "execution_count": 15,
     "metadata": {},
     "output_type": "execute_result"
    }
   ],
   "source": [
    "data.rename(columns = {'water availability': 'water_availability', 'harvest season': 'harvest_season', 'Country': 'country', 'label': 'crop'}, inplace= True)\n",
    "data"
   ]
  },
  {
   "cell_type": "code",
   "execution_count": 16,
   "metadata": {
    "execution": {
     "iopub.execute_input": "2023-11-27T06:31:53.508122Z",
     "iopub.status.busy": "2023-11-27T06:31:53.507747Z",
     "iopub.status.idle": "2023-11-27T06:31:53.530380Z",
     "shell.execute_reply": "2023-11-27T06:31:53.529507Z",
     "shell.execute_reply.started": "2023-11-27T06:31:53.508087Z"
    }
   },
   "outputs": [
    {
     "name": "stdout",
     "output_type": "stream",
     "text": [
      "<class 'pandas.core.frame.DataFrame'>\n",
      "RangeIndex: 1400 entries, 0 to 1399\n",
      "Data columns (total 7 columns):\n",
      " #   Column              Non-Null Count  Dtype  \n",
      "---  ------              --------------  -----  \n",
      " 0   temperature         1400 non-null   float64\n",
      " 1   humidity            1400 non-null   float64\n",
      " 2   ph                  1400 non-null   float64\n",
      " 3   water_availability  1400 non-null   float64\n",
      " 4   harvest_season      1400 non-null   object \n",
      " 5   crop                1400 non-null   object \n",
      " 6   country             1400 non-null   object \n",
      "dtypes: float64(4), object(3)\n",
      "memory usage: 76.7+ KB\n"
     ]
    }
   ],
   "source": [
    "data.info()"
   ]
  },
  {
   "cell_type": "code",
   "execution_count": 17,
   "metadata": {
    "execution": {
     "iopub.execute_input": "2023-11-27T06:31:53.886135Z",
     "iopub.status.busy": "2023-11-27T06:31:53.885499Z",
     "iopub.status.idle": "2023-11-27T06:31:53.892440Z",
     "shell.execute_reply": "2023-11-27T06:31:53.891311Z",
     "shell.execute_reply.started": "2023-11-27T06:31:53.886098Z"
    }
   },
   "outputs": [
    {
     "name": "stdout",
     "output_type": "stream",
     "text": [
      "['blackgram', 'chickpea', 'cotton', 'jute', 'kidneybeans', 'lentil', 'maize', 'mothbeans', 'mungbean', 'muskmelon', 'pigeonpeas', 'rice', 'watermelon']\n"
     ]
    }
   ],
   "source": [
    "crops = list(np.unique(data['crop']))\n",
    "print(crops)"
   ]
  },
  {
   "cell_type": "code",
   "execution_count": 7,
   "metadata": {
    "execution": {
     "iopub.execute_input": "2023-11-27T06:31:54.389860Z",
     "iopub.status.busy": "2023-11-27T06:31:54.388937Z",
     "iopub.status.idle": "2023-11-27T06:31:54.397441Z",
     "shell.execute_reply": "2023-11-27T06:31:54.396454Z",
     "shell.execute_reply.started": "2023-11-27T06:31:54.389823Z"
    }
   },
   "outputs": [
    {
     "data": {
      "text/plain": [
       "['Kenya', 'Nigeria', 'South Africa', 'Sudan']"
      ]
     },
     "execution_count": 7,
     "metadata": {},
     "output_type": "execute_result"
    }
   ],
   "source": [
    "countries = list(np.unique(data['country']))\n",
    "countries"
   ]
  },
  {
   "cell_type": "code",
   "execution_count": 8,
   "metadata": {
    "execution": {
     "iopub.execute_input": "2023-11-27T06:31:54.818938Z",
     "iopub.status.busy": "2023-11-27T06:31:54.818158Z",
     "iopub.status.idle": "2023-11-27T06:31:54.825884Z",
     "shell.execute_reply": "2023-11-27T06:31:54.824774Z",
     "shell.execute_reply.started": "2023-11-27T06:31:54.818904Z"
    }
   },
   "outputs": [
    {
     "data": {
      "text/plain": [
       "['rainy', 'spring', 'summer', 'winter']"
      ]
     },
     "execution_count": 8,
     "metadata": {},
     "output_type": "execute_result"
    }
   ],
   "source": [
    "plant_season = list(np.unique(data['harvest_season']))\n",
    "plant_season"
   ]
  },
  {
   "cell_type": "code",
   "execution_count": 9,
   "metadata": {
    "execution": {
     "iopub.execute_input": "2023-11-27T06:31:55.119168Z",
     "iopub.status.busy": "2023-11-27T06:31:55.118282Z",
     "iopub.status.idle": "2023-11-27T06:31:55.126242Z",
     "shell.execute_reply": "2023-11-27T06:31:55.125200Z",
     "shell.execute_reply.started": "2023-11-27T06:31:55.119137Z"
    }
   },
   "outputs": [
    {
     "data": {
      "text/plain": [
       "['rainy', 'spring', 'summer', 'winter']"
      ]
     },
     "execution_count": 9,
     "metadata": {},
     "output_type": "execute_result"
    }
   ],
   "source": [
    "harvest_season = list(np.unique(data['harvest_season']))\n",
    "harvest_season"
   ]
  },
  {
   "cell_type": "code",
   "execution_count": 10,
   "metadata": {
    "execution": {
     "iopub.execute_input": "2023-11-27T06:31:55.560762Z",
     "iopub.status.busy": "2023-11-27T06:31:55.560410Z",
     "iopub.status.idle": "2023-11-27T06:31:56.480612Z",
     "shell.execute_reply": "2023-11-27T06:31:56.479706Z",
     "shell.execute_reply.started": "2023-11-27T06:31:55.560734Z"
    }
   },
   "outputs": [
    {
     "data": {
      "image/png": "[encoded data removed]",
      "text/plain": [
       "<Figure size 640x480 with 4 Axes>"
      ]
     },
     "metadata": {},
     "output_type": "display_data"
    }
   ],
   "source": [
    "fig, ax = plt.subplots(nrows=2, ncols=2)\n",
    "ax[0, 0].plot(data['temperature'])\n",
    "ax[0, 0].set_title('Temperature')\n",
    "\n",
    "ax[0, 1].plot(data['ph'])\n",
    "ax[0, 1].set_title('pH values')\n",
    "\n",
    "ax[1, 0].plot(data['humidity'])\n",
    "ax[1, 0].set_title('Humidity')\n",
    "\n",
    "ax[1, 1].plot(data['water_availability'])\n",
    "ax[1, 1].set_title('Water_availability')\n",
    "\n",
    "plt.tight_layout()"
   ]
  },
  {
   "cell_type": "code",
   "execution_count": 11,
   "metadata": {
    "execution": {
     "iopub.execute_input": "2023-11-27T06:31:56.482596Z",
     "iopub.status.busy": "2023-11-27T06:31:56.482275Z",
     "iopub.status.idle": "2023-11-27T06:31:56.726338Z",
     "shell.execute_reply": "2023-11-27T06:31:56.725506Z",
     "shell.execute_reply.started": "2023-11-27T06:31:56.482571Z"
    }
   },
   "outputs": [
    {
     "data": {
      "text/plain": [
       "<Axes: xlabel='harvest_season', ylabel='count'>"
      ]
     },
     "execution_count": 11,
     "metadata": {},
     "output_type": "execute_result"
    },
    {
     "data": {
      "image/png": "[encoded data removed]",
      "text/plain": [
       "<Figure size 640x480 with 1 Axes>"
      ]
     },
     "metadata": {},
     "output_type": "display_data"
    }
   ],
   "source": [
    "sn.countplot(data, x='harvest_season')"
   ]
  },
  {
   "cell_type": "code",
   "execution_count": 12,
   "metadata": {
    "execution": {
     "iopub.execute_input": "2023-11-27T06:31:56.728043Z",
     "iopub.status.busy": "2023-11-27T06:31:56.727766Z",
     "iopub.status.idle": "2023-11-27T06:31:56.737172Z",
     "shell.execute_reply": "2023-11-27T06:31:56.736306Z",
     "shell.execute_reply.started": "2023-11-27T06:31:56.728018Z"
    }
   },
   "outputs": [
    {
     "data": {
      "text/plain": [
       "0"
      ]
     },
     "execution_count": 12,
     "metadata": {},
     "output_type": "execute_result"
    }
   ],
   "source": [
    "data.duplicated().sum()"
   ]
  },
  {
   "cell_type": "code",
   "execution_count": 13,
   "metadata": {
    "execution": {
     "iopub.execute_input": "2023-11-27T06:31:57.110004Z",
     "iopub.status.busy": "2023-11-27T06:31:57.109661Z",
     "iopub.status.idle": "2023-11-27T06:31:57.118267Z",
     "shell.execute_reply": "2023-11-27T06:31:57.117213Z",
     "shell.execute_reply.started": "2023-11-27T06:31:57.109975Z"
    }
   },
   "outputs": [
    {
     "data": {
      "text/plain": [
       "temperature           0\n",
       "humidity              0\n",
       "ph                    0\n",
       "water_availability    0\n",
       "harvest_season        0\n",
       "crop                  0\n",
       "country               0\n",
       "dtype: int64"
      ]
     },
     "execution_count": 13,
     "metadata": {},
     "output_type": "execute_result"
    }
   ],
   "source": [
    "data.isna().sum()"
   ]
  },
  {
   "cell_type": "markdown",
   "metadata": {},
   "source": [
    "# Data preprocessing"
   ]
  },
  {
   "cell_type": "code",
   "execution_count": 14,
   "metadata": {
    "execution": {
     "iopub.execute_input": "2023-11-27T06:31:57.936421Z",
     "iopub.status.busy": "2023-11-27T06:31:57.936009Z",
     "iopub.status.idle": "2023-11-27T06:31:57.954302Z",
     "shell.execute_reply": "2023-11-27T06:31:57.953178Z",
     "shell.execute_reply.started": "2023-11-27T06:31:57.936387Z"
    }
   },
   "outputs": [
    {
     "data": {
      "text/html": [
       "<div>\n",
       "<style scoped>\n",
       "    .dataframe tbody tr th:only-of-type {\n",
       "        vertical-align: middle;\n",
       "    }\n",
       "\n",
       "    .dataframe tbody tr th {\n",
       "        vertical-align: top;\n",
       "    }\n",
       "\n",
       "    .dataframe thead th {\n",
       "        text-align: right;\n",
       "    }\n",
       "</style>\n",
       "<table border=\"1\" class=\"dataframe\">\n",
       "  <thead>\n",
       "    <tr style=\"text-align: right;\">\n",
       "      <th></th>\n",
       "      <th>temperature</th>\n",
       "      <th>humidity</th>\n",
       "      <th>ph</th>\n",
       "      <th>water_availability</th>\n",
       "      <th>harvest_season</th>\n",
       "      <th>crop</th>\n",
       "      <th>country</th>\n",
       "    </tr>\n",
       "  </thead>\n",
       "  <tbody>\n",
       "    <tr>\n",
       "      <th>0</th>\n",
       "      <td>20.879744</td>\n",
       "      <td>82.002744</td>\n",
       "      <td>6.502985</td>\n",
       "      <td>202.935536</td>\n",
       "      <td>rainy</td>\n",
       "      <td>rice</td>\n",
       "      <td>Nigeria</td>\n",
       "    </tr>\n",
       "    <tr>\n",
       "      <th>1</th>\n",
       "      <td>21.770462</td>\n",
       "      <td>80.319644</td>\n",
       "      <td>7.038096</td>\n",
       "      <td>226.655537</td>\n",
       "      <td>rainy</td>\n",
       "      <td>rice</td>\n",
       "      <td>Nigeria</td>\n",
       "    </tr>\n",
       "    <tr>\n",
       "      <th>2</th>\n",
       "      <td>23.004459</td>\n",
       "      <td>82.320763</td>\n",
       "      <td>7.840207</td>\n",
       "      <td>263.964248</td>\n",
       "      <td>rainy</td>\n",
       "      <td>rice</td>\n",
       "      <td>Nigeria</td>\n",
       "    </tr>\n",
       "    <tr>\n",
       "      <th>3</th>\n",
       "      <td>26.491096</td>\n",
       "      <td>80.158363</td>\n",
       "      <td>6.980401</td>\n",
       "      <td>242.864034</td>\n",
       "      <td>rainy</td>\n",
       "      <td>rice</td>\n",
       "      <td>Nigeria</td>\n",
       "    </tr>\n",
       "    <tr>\n",
       "      <th>4</th>\n",
       "      <td>20.130175</td>\n",
       "      <td>81.604873</td>\n",
       "      <td>7.628473</td>\n",
       "      <td>262.717340</td>\n",
       "      <td>rainy</td>\n",
       "      <td>rice</td>\n",
       "      <td>Nigeria</td>\n",
       "    </tr>\n",
       "    <tr>\n",
       "      <th>...</th>\n",
       "      <td>...</td>\n",
       "      <td>...</td>\n",
       "      <td>...</td>\n",
       "      <td>...</td>\n",
       "      <td>...</td>\n",
       "      <td>...</td>\n",
       "      <td>...</td>\n",
       "    </tr>\n",
       "    <tr>\n",
       "      <th>1395</th>\n",
       "      <td>23.874845</td>\n",
       "      <td>86.792613</td>\n",
       "      <td>6.718725</td>\n",
       "      <td>177.514731</td>\n",
       "      <td>rainy</td>\n",
       "      <td>jute</td>\n",
       "      <td>South Africa</td>\n",
       "    </tr>\n",
       "    <tr>\n",
       "      <th>1396</th>\n",
       "      <td>23.928879</td>\n",
       "      <td>88.071123</td>\n",
       "      <td>6.880205</td>\n",
       "      <td>154.660874</td>\n",
       "      <td>rainy</td>\n",
       "      <td>jute</td>\n",
       "      <td>South Africa</td>\n",
       "    </tr>\n",
       "    <tr>\n",
       "      <th>1397</th>\n",
       "      <td>24.814412</td>\n",
       "      <td>81.686889</td>\n",
       "      <td>6.861069</td>\n",
       "      <td>190.788639</td>\n",
       "      <td>rainy</td>\n",
       "      <td>jute</td>\n",
       "      <td>Nigeria</td>\n",
       "    </tr>\n",
       "    <tr>\n",
       "      <th>1398</th>\n",
       "      <td>24.447439</td>\n",
       "      <td>82.286484</td>\n",
       "      <td>6.769346</td>\n",
       "      <td>190.968489</td>\n",
       "      <td>rainy</td>\n",
       "      <td>jute</td>\n",
       "      <td>Nigeria</td>\n",
       "    </tr>\n",
       "    <tr>\n",
       "      <th>1399</th>\n",
       "      <td>26.574217</td>\n",
       "      <td>73.819949</td>\n",
       "      <td>7.261581</td>\n",
       "      <td>159.322307</td>\n",
       "      <td>rainy</td>\n",
       "      <td>jute</td>\n",
       "      <td>South Africa</td>\n",
       "    </tr>\n",
       "  </tbody>\n",
       "</table>\n",
       "<p>1400 rows × 7 columns</p>\n",
       "</div>"
      ],
      "text/plain": [
       "      temperature   humidity        ph  water_availability harvest_season  \\\n",
       "0       20.879744  82.002744  6.502985          202.935536          rainy   \n",
       "1       21.770462  80.319644  7.038096          226.655537          rainy   \n",
       "2       23.004459  82.320763  7.840207          263.964248          rainy   \n",
       "3       26.491096  80.158363  6.980401          242.864034          rainy   \n",
       "4       20.130175  81.604873  7.628473          262.717340          rainy   \n",
       "...           ...        ...       ...                 ...            ...   \n",
       "1395    23.874845  86.792613  6.718725          177.514731          rainy   \n",
       "1396    23.928879  88.071123  6.880205          154.660874          rainy   \n",
       "1397    24.814412  81.686889  6.861069          190.788639          rainy   \n",
       "1398    24.447439  82.286484  6.769346          190.968489          rainy   \n",
       "1399    26.574217  73.819949  7.261581          159.322307          rainy   \n",
       "\n",
       "      crop       country  \n",
       "0     rice       Nigeria  \n",
       "1     rice       Nigeria  \n",
       "2     rice       Nigeria  \n",
       "3     rice       Nigeria  \n",
       "4     rice       Nigeria  \n",
       "...    ...           ...  \n",
       "1395  jute  South Africa  \n",
       "1396  jute  South Africa  \n",
       "1397  jute       Nigeria  \n",
       "1398  jute       Nigeria  \n",
       "1399  jute  South Africa  \n",
       "\n",
       "[1400 rows x 7 columns]"
      ]
     },
     "execution_count": 14,
     "metadata": {},
     "output_type": "execute_result"
    }
   ],
   "source": [
    "data"
   ]
  },
  {
   "cell_type": "code",
   "execution_count": 15,
   "metadata": {
    "execution": {
     "iopub.execute_input": "2023-11-27T06:31:58.610191Z",
     "iopub.status.busy": "2023-11-27T06:31:58.609824Z",
     "iopub.status.idle": "2023-11-27T06:31:58.615795Z",
     "shell.execute_reply": "2023-11-27T06:31:58.614078Z",
     "shell.execute_reply.started": "2023-11-27T06:31:58.610159Z"
    }
   },
   "outputs": [],
   "source": [
    "from sklearn.preprocessing import LabelEncoder, OneHotEncoder"
   ]
  },
  {
   "cell_type": "code",
   "execution_count": 16,
   "metadata": {
    "execution": {
     "iopub.execute_input": "2023-11-27T06:31:59.120388Z",
     "iopub.status.busy": "2023-11-27T06:31:59.119567Z",
     "iopub.status.idle": "2023-11-27T06:31:59.127160Z",
     "shell.execute_reply": "2023-11-27T06:31:59.126062Z",
     "shell.execute_reply.started": "2023-11-27T06:31:59.120352Z"
    }
   },
   "outputs": [],
   "source": [
    "# planting season\n",
    "X = data.drop(['harvest_season'], axis = 1)\n",
    "y = data['harvest_season']"
   ]
  },
  {
   "cell_type": "code",
   "execution_count": 17,
   "metadata": {
    "execution": {
     "iopub.execute_input": "2023-11-27T06:31:59.598167Z",
     "iopub.status.busy": "2023-11-27T06:31:59.597813Z",
     "iopub.status.idle": "2023-11-27T06:31:59.604854Z",
     "shell.execute_reply": "2023-11-27T06:31:59.603742Z",
     "shell.execute_reply.started": "2023-11-27T06:31:59.598138Z"
    }
   },
   "outputs": [
    {
     "data": {
      "text/plain": [
       "Index(['temperature', 'humidity', 'ph', 'water_availability', 'crop',\n",
       "       'country'],\n",
       "      dtype='object')"
      ]
     },
     "execution_count": 17,
     "metadata": {},
     "output_type": "execute_result"
    }
   ],
   "source": [
    "X.columns"
   ]
  },
  {
   "cell_type": "code",
   "execution_count": 18,
   "metadata": {
    "execution": {
     "iopub.execute_input": "2023-11-27T06:32:00.790086Z",
     "iopub.status.busy": "2023-11-27T06:32:00.789069Z",
     "iopub.status.idle": "2023-11-27T06:32:00.809768Z",
     "shell.execute_reply": "2023-11-27T06:32:00.808695Z",
     "shell.execute_reply.started": "2023-11-27T06:32:00.790050Z"
    }
   },
   "outputs": [
    {
     "data": {
      "text/html": [
       "<div>\n",
       "<style scoped>\n",
       "    .dataframe tbody tr th:only-of-type {\n",
       "        vertical-align: middle;\n",
       "    }\n",
       "\n",
       "    .dataframe tbody tr th {\n",
       "        vertical-align: top;\n",
       "    }\n",
       "\n",
       "    .dataframe thead th {\n",
       "        text-align: right;\n",
       "    }\n",
       "</style>\n",
       "<table border=\"1\" class=\"dataframe\">\n",
       "  <thead>\n",
       "    <tr style=\"text-align: right;\">\n",
       "      <th></th>\n",
       "      <th>temperature</th>\n",
       "      <th>humidity</th>\n",
       "      <th>ph</th>\n",
       "      <th>water_availability</th>\n",
       "      <th>crop</th>\n",
       "      <th>country</th>\n",
       "    </tr>\n",
       "  </thead>\n",
       "  <tbody>\n",
       "    <tr>\n",
       "      <th>0</th>\n",
       "      <td>20.879744</td>\n",
       "      <td>82.002744</td>\n",
       "      <td>6.502985</td>\n",
       "      <td>202.935536</td>\n",
       "      <td>rice</td>\n",
       "      <td>Nigeria</td>\n",
       "    </tr>\n",
       "    <tr>\n",
       "      <th>1</th>\n",
       "      <td>21.770462</td>\n",
       "      <td>80.319644</td>\n",
       "      <td>7.038096</td>\n",
       "      <td>226.655537</td>\n",
       "      <td>rice</td>\n",
       "      <td>Nigeria</td>\n",
       "    </tr>\n",
       "    <tr>\n",
       "      <th>2</th>\n",
       "      <td>23.004459</td>\n",
       "      <td>82.320763</td>\n",
       "      <td>7.840207</td>\n",
       "      <td>263.964248</td>\n",
       "      <td>rice</td>\n",
       "      <td>Nigeria</td>\n",
       "    </tr>\n",
       "    <tr>\n",
       "      <th>3</th>\n",
       "      <td>26.491096</td>\n",
       "      <td>80.158363</td>\n",
       "      <td>6.980401</td>\n",
       "      <td>242.864034</td>\n",
       "      <td>rice</td>\n",
       "      <td>Nigeria</td>\n",
       "    </tr>\n",
       "    <tr>\n",
       "      <th>4</th>\n",
       "      <td>20.130175</td>\n",
       "      <td>81.604873</td>\n",
       "      <td>7.628473</td>\n",
       "      <td>262.717340</td>\n",
       "      <td>rice</td>\n",
       "      <td>Nigeria</td>\n",
       "    </tr>\n",
       "    <tr>\n",
       "      <th>...</th>\n",
       "      <td>...</td>\n",
       "      <td>...</td>\n",
       "      <td>...</td>\n",
       "      <td>...</td>\n",
       "      <td>...</td>\n",
       "      <td>...</td>\n",
       "    </tr>\n",
       "    <tr>\n",
       "      <th>1395</th>\n",
       "      <td>23.874845</td>\n",
       "      <td>86.792613</td>\n",
       "      <td>6.718725</td>\n",
       "      <td>177.514731</td>\n",
       "      <td>jute</td>\n",
       "      <td>South Africa</td>\n",
       "    </tr>\n",
       "    <tr>\n",
       "      <th>1396</th>\n",
       "      <td>23.928879</td>\n",
       "      <td>88.071123</td>\n",
       "      <td>6.880205</td>\n",
       "      <td>154.660874</td>\n",
       "      <td>jute</td>\n",
       "      <td>South Africa</td>\n",
       "    </tr>\n",
       "    <tr>\n",
       "      <th>1397</th>\n",
       "      <td>24.814412</td>\n",
       "      <td>81.686889</td>\n",
       "      <td>6.861069</td>\n",
       "      <td>190.788639</td>\n",
       "      <td>jute</td>\n",
       "      <td>Nigeria</td>\n",
       "    </tr>\n",
       "    <tr>\n",
       "      <th>1398</th>\n",
       "      <td>24.447439</td>\n",
       "      <td>82.286484</td>\n",
       "      <td>6.769346</td>\n",
       "      <td>190.968489</td>\n",
       "      <td>jute</td>\n",
       "      <td>Nigeria</td>\n",
       "    </tr>\n",
       "    <tr>\n",
       "      <th>1399</th>\n",
       "      <td>26.574217</td>\n",
       "      <td>73.819949</td>\n",
       "      <td>7.261581</td>\n",
       "      <td>159.322307</td>\n",
       "      <td>jute</td>\n",
       "      <td>South Africa</td>\n",
       "    </tr>\n",
       "  </tbody>\n",
       "</table>\n",
       "<p>1400 rows × 6 columns</p>\n",
       "</div>"
      ],
      "text/plain": [
       "      temperature   humidity        ph  water_availability  crop       country\n",
       "0       20.879744  82.002744  6.502985          202.935536  rice       Nigeria\n",
       "1       21.770462  80.319644  7.038096          226.655537  rice       Nigeria\n",
       "2       23.004459  82.320763  7.840207          263.964248  rice       Nigeria\n",
       "3       26.491096  80.158363  6.980401          242.864034  rice       Nigeria\n",
       "4       20.130175  81.604873  7.628473          262.717340  rice       Nigeria\n",
       "...           ...        ...       ...                 ...   ...           ...\n",
       "1395    23.874845  86.792613  6.718725          177.514731  jute  South Africa\n",
       "1396    23.928879  88.071123  6.880205          154.660874  jute  South Africa\n",
       "1397    24.814412  81.686889  6.861069          190.788639  jute       Nigeria\n",
       "1398    24.447439  82.286484  6.769346          190.968489  jute       Nigeria\n",
       "1399    26.574217  73.819949  7.261581          159.322307  jute  South Africa\n",
       "\n",
       "[1400 rows x 6 columns]"
      ]
     },
     "execution_count": 18,
     "metadata": {},
     "output_type": "execute_result"
    }
   ],
   "source": [
    "X"
   ]
  },
  {
   "cell_type": "code",
   "execution_count": 19,
   "metadata": {
    "execution": {
     "iopub.execute_input": "2023-11-27T06:32:05.489957Z",
     "iopub.status.busy": "2023-11-27T06:32:05.489581Z",
     "iopub.status.idle": "2023-11-27T06:32:05.502056Z",
     "shell.execute_reply": "2023-11-27T06:32:05.501102Z",
     "shell.execute_reply.started": "2023-11-27T06:32:05.489925Z"
    }
   },
   "outputs": [
    {
     "data": {
      "text/plain": [
       "country\n",
       "Kenya           155\n",
       "Nigeria         713\n",
       "South Africa    468\n",
       "Sudan            64\n",
       "Name: count, dtype: int64"
      ]
     },
     "execution_count": 19,
     "metadata": {},
     "output_type": "execute_result"
    }
   ],
   "source": [
    "X['country'].value_counts().sort_index()"
   ]
  },
  {
   "cell_type": "code",
   "execution_count": 20,
   "metadata": {
    "execution": {
     "iopub.execute_input": "2023-11-27T06:32:09.202221Z",
     "iopub.status.busy": "2023-11-27T06:32:09.201337Z",
     "iopub.status.idle": "2023-11-27T06:32:09.216084Z",
     "shell.execute_reply": "2023-11-27T06:32:09.214971Z",
     "shell.execute_reply.started": "2023-11-27T06:32:09.202184Z"
    }
   },
   "outputs": [],
   "source": [
    "X.replace({'crop':{'blackgram':0,\n",
    "                 'chickpea': 1,\n",
    "                 'cotton': 2,\n",
    "                 'jute':3,\n",
    "                 'kidneybeans':4,\n",
    "                 'lentil':5,\n",
    "                 'maize':6,\n",
    "                 'mothbeans':7,\n",
    "                 'mungbean': 8,\n",
    "                 'muskmelon':9,\n",
    "                 'pigeonpeas':10,\n",
    "                 'rice':11,\n",
    "                 'watermelon':12},\n",
    "         'country':{'Kenya':0,\n",
    "                   'Nigeria': 1,\n",
    "                   'South Africa': 2,\n",
    "                   'Sudan': 3}}, inplace=True)"
   ]
  },
  {
   "cell_type": "code",
   "execution_count": 21,
   "metadata": {
    "execution": {
     "iopub.execute_input": "2023-11-27T06:32:12.632563Z",
     "iopub.status.busy": "2023-11-27T06:32:12.631848Z",
     "iopub.status.idle": "2023-11-27T06:32:12.640794Z",
     "shell.execute_reply": "2023-11-27T06:32:12.639726Z",
     "shell.execute_reply.started": "2023-11-27T06:32:12.632529Z"
    }
   },
   "outputs": [],
   "source": [
    "season_df = data.copy(deep = True)\n",
    "\n",
    "le = LabelEncoder()\n",
    "season_df['harvest_season'] = le.fit_transform(season_df['harvest_season'])\n",
    "season_df['crop'] = le.fit_transform(season_df['crop'])\n",
    "season_df['country'] = le.fit_transform(season_df['country'])"
   ]
  },
  {
   "cell_type": "code",
   "execution_count": 22,
   "metadata": {
    "execution": {
     "iopub.execute_input": "2023-11-27T06:32:13.009223Z",
     "iopub.status.busy": "2023-11-27T06:32:13.008837Z",
     "iopub.status.idle": "2023-11-27T06:32:13.026439Z",
     "shell.execute_reply": "2023-11-27T06:32:13.025391Z",
     "shell.execute_reply.started": "2023-11-27T06:32:13.009185Z"
    }
   },
   "outputs": [
    {
     "data": {
      "text/html": [
       "<div>\n",
       "<style scoped>\n",
       "    .dataframe tbody tr th:only-of-type {\n",
       "        vertical-align: middle;\n",
       "    }\n",
       "\n",
       "    .dataframe tbody tr th {\n",
       "        vertical-align: top;\n",
       "    }\n",
       "\n",
       "    .dataframe thead th {\n",
       "        text-align: right;\n",
       "    }\n",
       "</style>\n",
       "<table border=\"1\" class=\"dataframe\">\n",
       "  <thead>\n",
       "    <tr style=\"text-align: right;\">\n",
       "      <th></th>\n",
       "      <th>temperature</th>\n",
       "      <th>humidity</th>\n",
       "      <th>ph</th>\n",
       "      <th>water_availability</th>\n",
       "      <th>harvest_season</th>\n",
       "      <th>crop</th>\n",
       "      <th>country</th>\n",
       "    </tr>\n",
       "  </thead>\n",
       "  <tbody>\n",
       "    <tr>\n",
       "      <th>0</th>\n",
       "      <td>20.879744</td>\n",
       "      <td>82.002744</td>\n",
       "      <td>6.502985</td>\n",
       "      <td>202.935536</td>\n",
       "      <td>0</td>\n",
       "      <td>11</td>\n",
       "      <td>1</td>\n",
       "    </tr>\n",
       "    <tr>\n",
       "      <th>1</th>\n",
       "      <td>21.770462</td>\n",
       "      <td>80.319644</td>\n",
       "      <td>7.038096</td>\n",
       "      <td>226.655537</td>\n",
       "      <td>0</td>\n",
       "      <td>11</td>\n",
       "      <td>1</td>\n",
       "    </tr>\n",
       "    <tr>\n",
       "      <th>2</th>\n",
       "      <td>23.004459</td>\n",
       "      <td>82.320763</td>\n",
       "      <td>7.840207</td>\n",
       "      <td>263.964248</td>\n",
       "      <td>0</td>\n",
       "      <td>11</td>\n",
       "      <td>1</td>\n",
       "    </tr>\n",
       "    <tr>\n",
       "      <th>3</th>\n",
       "      <td>26.491096</td>\n",
       "      <td>80.158363</td>\n",
       "      <td>6.980401</td>\n",
       "      <td>242.864034</td>\n",
       "      <td>0</td>\n",
       "      <td>11</td>\n",
       "      <td>1</td>\n",
       "    </tr>\n",
       "    <tr>\n",
       "      <th>4</th>\n",
       "      <td>20.130175</td>\n",
       "      <td>81.604873</td>\n",
       "      <td>7.628473</td>\n",
       "      <td>262.717340</td>\n",
       "      <td>0</td>\n",
       "      <td>11</td>\n",
       "      <td>1</td>\n",
       "    </tr>\n",
       "    <tr>\n",
       "      <th>...</th>\n",
       "      <td>...</td>\n",
       "      <td>...</td>\n",
       "      <td>...</td>\n",
       "      <td>...</td>\n",
       "      <td>...</td>\n",
       "      <td>...</td>\n",
       "      <td>...</td>\n",
       "    </tr>\n",
       "    <tr>\n",
       "      <th>1395</th>\n",
       "      <td>23.874845</td>\n",
       "      <td>86.792613</td>\n",
       "      <td>6.718725</td>\n",
       "      <td>177.514731</td>\n",
       "      <td>0</td>\n",
       "      <td>3</td>\n",
       "      <td>2</td>\n",
       "    </tr>\n",
       "    <tr>\n",
       "      <th>1396</th>\n",
       "      <td>23.928879</td>\n",
       "      <td>88.071123</td>\n",
       "      <td>6.880205</td>\n",
       "      <td>154.660874</td>\n",
       "      <td>0</td>\n",
       "      <td>3</td>\n",
       "      <td>2</td>\n",
       "    </tr>\n",
       "    <tr>\n",
       "      <th>1397</th>\n",
       "      <td>24.814412</td>\n",
       "      <td>81.686889</td>\n",
       "      <td>6.861069</td>\n",
       "      <td>190.788639</td>\n",
       "      <td>0</td>\n",
       "      <td>3</td>\n",
       "      <td>1</td>\n",
       "    </tr>\n",
       "    <tr>\n",
       "      <th>1398</th>\n",
       "      <td>24.447439</td>\n",
       "      <td>82.286484</td>\n",
       "      <td>6.769346</td>\n",
       "      <td>190.968489</td>\n",
       "      <td>0</td>\n",
       "      <td>3</td>\n",
       "      <td>1</td>\n",
       "    </tr>\n",
       "    <tr>\n",
       "      <th>1399</th>\n",
       "      <td>26.574217</td>\n",
       "      <td>73.819949</td>\n",
       "      <td>7.261581</td>\n",
       "      <td>159.322307</td>\n",
       "      <td>0</td>\n",
       "      <td>3</td>\n",
       "      <td>2</td>\n",
       "    </tr>\n",
       "  </tbody>\n",
       "</table>\n",
       "<p>1400 rows × 7 columns</p>\n",
       "</div>"
      ],
      "text/plain": [
       "      temperature   humidity        ph  water_availability  harvest_season  \\\n",
       "0       20.879744  82.002744  6.502985          202.935536               0   \n",
       "1       21.770462  80.319644  7.038096          226.655537               0   \n",
       "2       23.004459  82.320763  7.840207          263.964248               0   \n",
       "3       26.491096  80.158363  6.980401          242.864034               0   \n",
       "4       20.130175  81.604873  7.628473          262.717340               0   \n",
       "...           ...        ...       ...                 ...             ...   \n",
       "1395    23.874845  86.792613  6.718725          177.514731               0   \n",
       "1396    23.928879  88.071123  6.880205          154.660874               0   \n",
       "1397    24.814412  81.686889  6.861069          190.788639               0   \n",
       "1398    24.447439  82.286484  6.769346          190.968489               0   \n",
       "1399    26.574217  73.819949  7.261581          159.322307               0   \n",
       "\n",
       "      crop  country  \n",
       "0       11        1  \n",
       "1       11        1  \n",
       "2       11        1  \n",
       "3       11        1  \n",
       "4       11        1  \n",
       "...    ...      ...  \n",
       "1395     3        2  \n",
       "1396     3        2  \n",
       "1397     3        1  \n",
       "1398     3        1  \n",
       "1399     3        2  \n",
       "\n",
       "[1400 rows x 7 columns]"
      ]
     },
     "execution_count": 22,
     "metadata": {},
     "output_type": "execute_result"
    }
   ],
   "source": [
    "season_df"
   ]
  },
  {
   "cell_type": "code",
   "execution_count": 23,
   "metadata": {
    "execution": {
     "iopub.execute_input": "2023-11-27T06:32:13.445764Z",
     "iopub.status.busy": "2023-11-27T06:32:13.445407Z",
     "iopub.status.idle": "2023-11-27T06:32:14.107915Z",
     "shell.execute_reply": "2023-11-27T06:32:14.106897Z",
     "shell.execute_reply.started": "2023-11-27T06:32:13.445732Z"
    }
   },
   "outputs": [
    {
     "data": {
      "text/plain": [
       "<Axes: >"
      ]
     },
     "execution_count": 23,
     "metadata": {},
     "output_type": "execute_result"
    },
    {
     "data": {
      "image/png": "[encoded data removed]",
      "text/plain": [
       "<Figure size 2000x1600 with 2 Axes>"
      ]
     },
     "metadata": {},
     "output_type": "display_data"
    }
   ],
   "source": [
    "plt.figure(figsize=(20, 16))\n",
    "sn.heatmap(season_df.corr(), annot=True)"
   ]
  },
  {
   "cell_type": "markdown",
   "metadata": {},
   "source": [
    "# prediction of harvest season"
   ]
  },
  {
   "cell_type": "code",
   "execution_count": 24,
   "metadata": {
    "execution": {
     "iopub.execute_input": "2023-11-27T06:32:14.967822Z",
     "iopub.status.busy": "2023-11-27T06:32:14.966975Z",
     "iopub.status.idle": "2023-11-27T06:32:14.975663Z",
     "shell.execute_reply": "2023-11-27T06:32:14.974694Z",
     "shell.execute_reply.started": "2023-11-27T06:32:14.967787Z"
    }
   },
   "outputs": [],
   "source": [
    "X_train, X_test, y_train, y_test = train_test_split(X, y, test_size=0.2, random_state = 1)\n",
    "#s_train, s_test, p_train, p_test = train_test_split(season_df, )"
   ]
  },
  {
   "cell_type": "code",
   "execution_count": 25,
   "metadata": {
    "execution": {
     "iopub.execute_input": "2023-11-27T06:32:15.878569Z",
     "iopub.status.busy": "2023-11-27T06:32:15.877648Z",
     "iopub.status.idle": "2023-11-27T06:32:15.893383Z",
     "shell.execute_reply": "2023-11-27T06:32:15.892376Z",
     "shell.execute_reply.started": "2023-11-27T06:32:15.878536Z"
    }
   },
   "outputs": [
    {
     "data": {
      "text/html": [
       "<div>\n",
       "<style scoped>\n",
       "    .dataframe tbody tr th:only-of-type {\n",
       "        vertical-align: middle;\n",
       "    }\n",
       "\n",
       "    .dataframe tbody tr th {\n",
       "        vertical-align: top;\n",
       "    }\n",
       "\n",
       "    .dataframe thead th {\n",
       "        text-align: right;\n",
       "    }\n",
       "</style>\n",
       "<table border=\"1\" class=\"dataframe\">\n",
       "  <thead>\n",
       "    <tr style=\"text-align: right;\">\n",
       "      <th></th>\n",
       "      <th>temperature</th>\n",
       "      <th>humidity</th>\n",
       "      <th>ph</th>\n",
       "      <th>water_availability</th>\n",
       "      <th>crop</th>\n",
       "      <th>country</th>\n",
       "    </tr>\n",
       "  </thead>\n",
       "  <tbody>\n",
       "    <tr>\n",
       "      <th>547</th>\n",
       "      <td>30.992569</td>\n",
       "      <td>43.021514</td>\n",
       "      <td>8.034413</td>\n",
       "      <td>58.276007</td>\n",
       "      <td>7</td>\n",
       "      <td>2</td>\n",
       "    </tr>\n",
       "    <tr>\n",
       "      <th>754</th>\n",
       "      <td>33.953091</td>\n",
       "      <td>69.961000</td>\n",
       "      <td>7.423530</td>\n",
       "      <td>61.163505</td>\n",
       "      <td>0</td>\n",
       "      <td>1</td>\n",
       "    </tr>\n",
       "    <tr>\n",
       "      <th>1283</th>\n",
       "      <td>24.712525</td>\n",
       "      <td>77.729311</td>\n",
       "      <td>7.979090</td>\n",
       "      <td>85.249633</td>\n",
       "      <td>2</td>\n",
       "      <td>2</td>\n",
       "    </tr>\n",
       "    <tr>\n",
       "      <th>1128</th>\n",
       "      <td>27.723383</td>\n",
       "      <td>90.938979</td>\n",
       "      <td>6.698469</td>\n",
       "      <td>22.818634</td>\n",
       "      <td>9</td>\n",
       "      <td>1</td>\n",
       "    </tr>\n",
       "    <tr>\n",
       "      <th>1063</th>\n",
       "      <td>25.832029</td>\n",
       "      <td>89.004817</td>\n",
       "      <td>6.755192</td>\n",
       "      <td>45.246906</td>\n",
       "      <td>12</td>\n",
       "      <td>2</td>\n",
       "    </tr>\n",
       "    <tr>\n",
       "      <th>...</th>\n",
       "      <td>...</td>\n",
       "      <td>...</td>\n",
       "      <td>...</td>\n",
       "      <td>...</td>\n",
       "      <td>...</td>\n",
       "      <td>...</td>\n",
       "    </tr>\n",
       "    <tr>\n",
       "      <th>664</th>\n",
       "      <td>29.129395</td>\n",
       "      <td>88.483126</td>\n",
       "      <td>7.085982</td>\n",
       "      <td>36.450128</td>\n",
       "      <td>8</td>\n",
       "      <td>1</td>\n",
       "    </tr>\n",
       "    <tr>\n",
       "      <th>764</th>\n",
       "      <td>30.640958</td>\n",
       "      <td>61.145086</td>\n",
       "      <td>7.167436</td>\n",
       "      <td>71.369475</td>\n",
       "      <td>0</td>\n",
       "      <td>1</td>\n",
       "    </tr>\n",
       "    <tr>\n",
       "      <th>239</th>\n",
       "      <td>18.811981</td>\n",
       "      <td>15.216182</td>\n",
       "      <td>6.206582</td>\n",
       "      <td>77.542942</td>\n",
       "      <td>1</td>\n",
       "      <td>2</td>\n",
       "    </tr>\n",
       "    <tr>\n",
       "      <th>616</th>\n",
       "      <td>27.864013</td>\n",
       "      <td>80.451314</td>\n",
       "      <td>6.852885</td>\n",
       "      <td>42.830539</td>\n",
       "      <td>8</td>\n",
       "      <td>1</td>\n",
       "    </tr>\n",
       "    <tr>\n",
       "      <th>757</th>\n",
       "      <td>27.264589</td>\n",
       "      <td>68.012329</td>\n",
       "      <td>7.775306</td>\n",
       "      <td>68.917544</td>\n",
       "      <td>0</td>\n",
       "      <td>1</td>\n",
       "    </tr>\n",
       "  </tbody>\n",
       "</table>\n",
       "<p>280 rows × 6 columns</p>\n",
       "</div>"
      ],
      "text/plain": [
       "      temperature   humidity        ph  water_availability  crop  country\n",
       "547     30.992569  43.021514  8.034413           58.276007     7        2\n",
       "754     33.953091  69.961000  7.423530           61.163505     0        1\n",
       "1283    24.712525  77.729311  7.979090           85.249633     2        2\n",
       "1128    27.723383  90.938979  6.698469           22.818634     9        1\n",
       "1063    25.832029  89.004817  6.755192           45.246906    12        2\n",
       "...           ...        ...       ...                 ...   ...      ...\n",
       "664     29.129395  88.483126  7.085982           36.450128     8        1\n",
       "764     30.640958  61.145086  7.167436           71.369475     0        1\n",
       "239     18.811981  15.216182  6.206582           77.542942     1        2\n",
       "616     27.864013  80.451314  6.852885           42.830539     8        1\n",
       "757     27.264589  68.012329  7.775306           68.917544     0        1\n",
       "\n",
       "[280 rows x 6 columns]"
      ]
     },
     "execution_count": 25,
     "metadata": {},
     "output_type": "execute_result"
    }
   ],
   "source": [
    "X_test"
   ]
  },
  {
   "cell_type": "code",
   "execution_count": 26,
   "metadata": {
    "execution": {
     "iopub.execute_input": "2023-11-27T06:32:17.888409Z",
     "iopub.status.busy": "2023-11-27T06:32:17.887641Z",
     "iopub.status.idle": "2023-11-27T06:32:17.926980Z",
     "shell.execute_reply": "2023-11-27T06:32:17.926018Z",
     "shell.execute_reply.started": "2023-11-27T06:32:17.888367Z"
    }
   },
   "outputs": [
    {
     "data": {
      "text/html": [
       "<style>#sk-container-id-1 {color: black;}#sk-container-id-1 pre{padding: 0;}#sk-container-id-1 div.sk-toggleable {background-color: white;}#sk-container-id-1 label.sk-toggleable__label {cursor: pointer;display: block;width: 100%;margin-bottom: 0;padding: 0.3em;box-sizing: border-box;text-align: center;}#sk-container-id-1 label.sk-toggleable__label-arrow:before {content: \"▸\";float: left;margin-right: 0.25em;color: #696969;}#sk-container-id-1 label.sk-toggleable__label-arrow:hover:before {color: black;}#sk-container-id-1 div.sk-estimator:hover label.sk-toggleable__label-arrow:before {color: black;}#sk-container-id-1 div.sk-toggleable__content {max-height: 0;max-width: 0;overflow: hidden;text-align: left;background-color: #f0f8ff;}#sk-container-id-1 div.sk-toggleable__content pre {margin: 0.2em;color: black;border-radius: 0.25em;background-color: #f0f8ff;}#sk-container-id-1 input.sk-toggleable__control:checked~div.sk-toggleable__content {max-height: 200px;max-width: 100%;overflow: auto;}#sk-container-id-1 input.sk-toggleable__control:checked~label.sk-toggleable__label-arrow:before {content: \"▾\";}#sk-container-id-1 div.sk-estimator input.sk-toggleable__control:checked~label.sk-toggleable__label {background-color: #d4ebff;}#sk-container-id-1 div.sk-label input.sk-toggleable__control:checked~label.sk-toggleable__label {background-color: #d4ebff;}#sk-container-id-1 input.sk-hidden--visually {border: 0;clip: rect(1px 1px 1px 1px);clip: rect(1px, 1px, 1px, 1px);height: 1px;margin: -1px;overflow: hidden;padding: 0;position: absolute;width: 1px;}#sk-container-id-1 div.sk-estimator {font-family: monospace;background-color: #f0f8ff;border: 1px dotted black;border-radius: 0.25em;box-sizing: border-box;margin-bottom: 0.5em;}#sk-container-id-1 div.sk-estimator:hover {background-color: #d4ebff;}#sk-container-id-1 div.sk-parallel-item::after {content: \"\";width: 100%;border-bottom: 1px solid gray;flex-grow: 1;}#sk-container-id-1 div.sk-label:hover label.sk-toggleable__label {background-color: #d4ebff;}#sk-container-id-1 div.sk-serial::before {content: \"\";position: absolute;border-left: 1px solid gray;box-sizing: border-box;top: 0;bottom: 0;left: 50%;z-index: 0;}#sk-container-id-1 div.sk-serial {display: flex;flex-direction: column;align-items: center;background-color: white;padding-right: 0.2em;padding-left: 0.2em;position: relative;}#sk-container-id-1 div.sk-item {position: relative;z-index: 1;}#sk-container-id-1 div.sk-parallel {display: flex;align-items: stretch;justify-content: center;background-color: white;position: relative;}#sk-container-id-1 div.sk-item::before, #sk-container-id-1 div.sk-parallel-item::before {content: \"\";position: absolute;border-left: 1px solid gray;box-sizing: border-box;top: 0;bottom: 0;left: 50%;z-index: -1;}#sk-container-id-1 div.sk-parallel-item {display: flex;flex-direction: column;z-index: 1;position: relative;background-color: white;}#sk-container-id-1 div.sk-parallel-item:first-child::after {align-self: flex-end;width: 50%;}#sk-container-id-1 div.sk-parallel-item:last-child::after {align-self: flex-start;width: 50%;}#sk-container-id-1 div.sk-parallel-item:only-child::after {width: 0;}#sk-container-id-1 div.sk-dashed-wrapped {border: 1px dashed gray;margin: 0 0.4em 0.5em 0.4em;box-sizing: border-box;padding-bottom: 0.4em;background-color: white;}#sk-container-id-1 div.sk-label label {font-family: monospace;font-weight: bold;display: inline-block;line-height: 1.2em;}#sk-container-id-1 div.sk-label-container {text-align: center;}#sk-container-id-1 div.sk-container {/* jupyter's `normalize.less` sets `[hidden] { display: none; }` but bootstrap.min.css set `[hidden] { display: none !important; }` so we also need the `!important` here to be able to override the default hidden behavior on the sphinx rendered scikit-learn.org. See: https://github.com/scikit-learn/scikit-learn/issues/21755 */display: inline-block !important;position: relative;}#sk-container-id-1 div.sk-text-repr-fallback {display: none;}</style><div id=\"sk-container-id-1\" class=\"sk-top-container\"><div class=\"sk-text-repr-fallback\"><pre>SVC()</pre><b>In a Jupyter environment, please rerun this cell to show the HTML representation or trust the notebook. <br />On GitHub, the HTML representation is unable to render, please try loading this page with nbviewer.org.</b></div><div class=\"sk-container\" hidden><div class=\"sk-item\"><div class=\"sk-estimator sk-toggleable\"><input class=\"sk-toggleable__control sk-hidden--visually\" id=\"sk-estimator-id-1\" type=\"checkbox\" checked><label for=\"sk-estimator-id-1\" class=\"sk-toggleable__label sk-toggleable__label-arrow\">SVC</label><div class=\"sk-toggleable__content\"><pre>SVC()</pre></div></div></div></div></div>"
      ],
      "text/plain": [
       "SVC()"
      ]
     },
     "execution_count": 26,
     "metadata": {},
     "output_type": "execute_result"
    }
   ],
   "source": [
    "svc_model = SVC()\n",
    "svc_model.fit(X_train, y_train)"
   ]
  },
  {
   "cell_type": "code",
   "execution_count": 27,
   "metadata": {
    "execution": {
     "iopub.execute_input": "2023-11-27T06:32:17.929831Z",
     "iopub.status.busy": "2023-11-27T06:32:17.929103Z",
     "iopub.status.idle": "2023-11-27T06:32:17.970369Z",
     "shell.execute_reply": "2023-11-27T06:32:17.969368Z",
     "shell.execute_reply.started": "2023-11-27T06:32:17.929792Z"
    }
   },
   "outputs": [
    {
     "name": "stdout",
     "output_type": "stream",
     "text": [
      "0.7607142857142857\n",
      "\n",
      "[[83  0  4 25]\n",
      " [ 0 10  0  4]\n",
      " [23  0 42 11]\n",
      " [ 0  0  0 78]]\n",
      "\n",
      "              precision    recall  f1-score   support\n",
      "\n",
      "       rainy       0.78      0.74      0.76       112\n",
      "      spring       1.00      0.71      0.83        14\n",
      "      summer       0.91      0.55      0.69        76\n",
      "      winter       0.66      1.00      0.80        78\n",
      "\n",
      "    accuracy                           0.76       280\n",
      "   macro avg       0.84      0.75      0.77       280\n",
      "weighted avg       0.80      0.76      0.75       280\n",
      "\n",
      "\n"
     ]
    }
   ],
   "source": [
    "svc_pred = svc_model.predict(X_test)\n",
    "\n",
    "print(accuracy_score(y_test, svc_pred))\n",
    "print()\n",
    "print(confusion_matrix(y_test, svc_pred))\n",
    "print()\n",
    "print(classification_report(y_test, svc_pred))\n",
    "print()"
   ]
  },
  {
   "cell_type": "code",
   "execution_count": 28,
   "metadata": {
    "execution": {
     "iopub.execute_input": "2023-11-27T06:32:18.258717Z",
     "iopub.status.busy": "2023-11-27T06:32:18.258058Z",
     "iopub.status.idle": "2023-11-27T06:32:18.578469Z",
     "shell.execute_reply": "2023-11-27T06:32:18.577597Z",
     "shell.execute_reply.started": "2023-11-27T06:32:18.258684Z"
    }
   },
   "outputs": [
    {
     "data": {
      "text/html": [
       "<style>#sk-container-id-2 {color: black;}#sk-container-id-2 pre{padding: 0;}#sk-container-id-2 div.sk-toggleable {background-color: white;}#sk-container-id-2 label.sk-toggleable__label {cursor: pointer;display: block;width: 100%;margin-bottom: 0;padding: 0.3em;box-sizing: border-box;text-align: center;}#sk-container-id-2 label.sk-toggleable__label-arrow:before {content: \"▸\";float: left;margin-right: 0.25em;color: #696969;}#sk-container-id-2 label.sk-toggleable__label-arrow:hover:before {color: black;}#sk-container-id-2 div.sk-estimator:hover label.sk-toggleable__label-arrow:before {color: black;}#sk-container-id-2 div.sk-toggleable__content {max-height: 0;max-width: 0;overflow: hidden;text-align: left;background-color: #f0f8ff;}#sk-container-id-2 div.sk-toggleable__content pre {margin: 0.2em;color: black;border-radius: 0.25em;background-color: #f0f8ff;}#sk-container-id-2 input.sk-toggleable__control:checked~div.sk-toggleable__content {max-height: 200px;max-width: 100%;overflow: auto;}#sk-container-id-2 input.sk-toggleable__control:checked~label.sk-toggleable__label-arrow:before {content: \"▾\";}#sk-container-id-2 div.sk-estimator input.sk-toggleable__control:checked~label.sk-toggleable__label {background-color: #d4ebff;}#sk-container-id-2 div.sk-label input.sk-toggleable__control:checked~label.sk-toggleable__label {background-color: #d4ebff;}#sk-container-id-2 input.sk-hidden--visually {border: 0;clip: rect(1px 1px 1px 1px);clip: rect(1px, 1px, 1px, 1px);height: 1px;margin: -1px;overflow: hidden;padding: 0;position: absolute;width: 1px;}#sk-container-id-2 div.sk-estimator {font-family: monospace;background-color: #f0f8ff;border: 1px dotted black;border-radius: 0.25em;box-sizing: border-box;margin-bottom: 0.5em;}#sk-container-id-2 div.sk-estimator:hover {background-color: #d4ebff;}#sk-container-id-2 div.sk-parallel-item::after {content: \"\";width: 100%;border-bottom: 1px solid gray;flex-grow: 1;}#sk-container-id-2 div.sk-label:hover label.sk-toggleable__label {background-color: #d4ebff;}#sk-container-id-2 div.sk-serial::before {content: \"\";position: absolute;border-left: 1px solid gray;box-sizing: border-box;top: 0;bottom: 0;left: 50%;z-index: 0;}#sk-container-id-2 div.sk-serial {display: flex;flex-direction: column;align-items: center;background-color: white;padding-right: 0.2em;padding-left: 0.2em;position: relative;}#sk-container-id-2 div.sk-item {position: relative;z-index: 1;}#sk-container-id-2 div.sk-parallel {display: flex;align-items: stretch;justify-content: center;background-color: white;position: relative;}#sk-container-id-2 div.sk-item::before, #sk-container-id-2 div.sk-parallel-item::before {content: \"\";position: absolute;border-left: 1px solid gray;box-sizing: border-box;top: 0;bottom: 0;left: 50%;z-index: -1;}#sk-container-id-2 div.sk-parallel-item {display: flex;flex-direction: column;z-index: 1;position: relative;background-color: white;}#sk-container-id-2 div.sk-parallel-item:first-child::after {align-self: flex-end;width: 50%;}#sk-container-id-2 div.sk-parallel-item:last-child::after {align-self: flex-start;width: 50%;}#sk-container-id-2 div.sk-parallel-item:only-child::after {width: 0;}#sk-container-id-2 div.sk-dashed-wrapped {border: 1px dashed gray;margin: 0 0.4em 0.5em 0.4em;box-sizing: border-box;padding-bottom: 0.4em;background-color: white;}#sk-container-id-2 div.sk-label label {font-family: monospace;font-weight: bold;display: inline-block;line-height: 1.2em;}#sk-container-id-2 div.sk-label-container {text-align: center;}#sk-container-id-2 div.sk-container {/* jupyter's `normalize.less` sets `[hidden] { display: none; }` but bootstrap.min.css set `[hidden] { display: none !important; }` so we also need the `!important` here to be able to override the default hidden behavior on the sphinx rendered scikit-learn.org. See: https://github.com/scikit-learn/scikit-learn/issues/21755 */display: inline-block !important;position: relative;}#sk-container-id-2 div.sk-text-repr-fallback {display: none;}</style><div id=\"sk-container-id-2\" class=\"sk-top-container\"><div class=\"sk-text-repr-fallback\"><pre>RandomForestClassifier(criterion=&#x27;entropy&#x27;)</pre><b>In a Jupyter environment, please rerun this cell to show the HTML representation or trust the notebook. <br />On GitHub, the HTML representation is unable to render, please try loading this page with nbviewer.org.</b></div><div class=\"sk-container\" hidden><div class=\"sk-item\"><div class=\"sk-estimator sk-toggleable\"><input class=\"sk-toggleable__control sk-hidden--visually\" id=\"sk-estimator-id-2\" type=\"checkbox\" checked><label for=\"sk-estimator-id-2\" class=\"sk-toggleable__label sk-toggleable__label-arrow\">RandomForestClassifier</label><div class=\"sk-toggleable__content\"><pre>RandomForestClassifier(criterion=&#x27;entropy&#x27;)</pre></div></div></div></div></div>"
      ],
      "text/plain": [
       "RandomForestClassifier(criterion='entropy')"
      ]
     },
     "execution_count": 28,
     "metadata": {},
     "output_type": "execute_result"
    }
   ],
   "source": [
    "rf_model = RandomForestClassifier(criterion='entropy')\n",
    "rf_model.fit(X_train, y_train)"
   ]
  },
  {
   "cell_type": "code",
   "execution_count": 29,
   "metadata": {
    "execution": {
     "iopub.execute_input": "2023-11-27T06:32:18.580650Z",
     "iopub.status.busy": "2023-11-27T06:32:18.580272Z",
     "iopub.status.idle": "2023-11-27T06:32:18.622042Z",
     "shell.execute_reply": "2023-11-27T06:32:18.621065Z",
     "shell.execute_reply.started": "2023-11-27T06:32:18.580617Z"
    }
   },
   "outputs": [
    {
     "name": "stdout",
     "output_type": "stream",
     "text": [
      "0.8642857142857143\n",
      "\n",
      "[[92  0  0 20]\n",
      " [ 0 14  0  0]\n",
      " [ 0  0 76  0]\n",
      " [18  0  0 60]]\n",
      "\n",
      "              precision    recall  f1-score   support\n",
      "\n",
      "       rainy       0.84      0.82      0.83       112\n",
      "      spring       1.00      1.00      1.00        14\n",
      "      summer       1.00      1.00      1.00        76\n",
      "      winter       0.75      0.77      0.76        78\n",
      "\n",
      "    accuracy                           0.86       280\n",
      "   macro avg       0.90      0.90      0.90       280\n",
      "weighted avg       0.86      0.86      0.86       280\n",
      "\n",
      "\n"
     ]
    }
   ],
   "source": [
    "rf_pred = rf_model.predict(X_test)\n",
    "\n",
    "print(accuracy_score(y_test, rf_pred))\n",
    "print()\n",
    "print(confusion_matrix(y_test, rf_pred))\n",
    "print()\n",
    "print(classification_report(y_test, rf_pred))\n",
    "print()"
   ]
  },
  {
   "cell_type": "code",
   "execution_count": 31,
   "metadata": {
    "execution": {
     "iopub.execute_input": "2023-11-27T07:07:19.345699Z",
     "iopub.status.busy": "2023-11-27T07:07:19.345286Z",
     "iopub.status.idle": "2023-11-27T07:07:22.277054Z",
     "shell.execute_reply": "2023-11-27T07:07:22.276204Z",
     "shell.execute_reply.started": "2023-11-27T07:07:19.345667Z"
    }
   },
   "outputs": [
    {
     "data": {
      "text/plain": [
       "<catboost.core.CatBoostClassifier at 0x1f301117ed0>"
      ]
     },
     "execution_count": 31,
     "metadata": {},
     "output_type": "execute_result"
    }
   ],
   "source": [
    "params = {'iterations': 206, 'depth': 7, 'learning_rate': 0.0017042082150490862, 'random_strength': 0.0006069804938473378}\n",
    "cat_model = CatBoostClassifier(**params, verbose = 0, random_state = 42)\n",
    "cat_model.fit(X_train, y_train)"
   ]
  },
  {
   "cell_type": "code",
   "execution_count": 32,
   "metadata": {
    "execution": {
     "iopub.execute_input": "2023-11-27T06:34:38.961582Z",
     "iopub.status.busy": "2023-11-27T06:34:38.960589Z",
     "iopub.status.idle": "2023-11-27T06:34:39.002171Z",
     "shell.execute_reply": "2023-11-27T06:34:39.001229Z",
     "shell.execute_reply.started": "2023-11-27T06:34:38.961547Z"
    }
   },
   "outputs": [
    {
     "name": "stdout",
     "output_type": "stream",
     "text": [
      "0.9285714285714286\n",
      "\n",
      "[[112   0   0   0]\n",
      " [  0  14   0   0]\n",
      " [  0   0  76   0]\n",
      " [ 20   0   0  58]]\n",
      "\n",
      "              precision    recall  f1-score   support\n",
      "\n",
      "       rainy       0.85      1.00      0.92       112\n",
      "      spring       1.00      1.00      1.00        14\n",
      "      summer       1.00      1.00      1.00        76\n",
      "      winter       1.00      0.74      0.85        78\n",
      "\n",
      "    accuracy                           0.93       280\n",
      "   macro avg       0.96      0.94      0.94       280\n",
      "weighted avg       0.94      0.93      0.93       280\n",
      "\n",
      "\n"
     ]
    }
   ],
   "source": [
    "cat_pred = cat_model.predict(X_test)\n",
    "\n",
    "print(accuracy_score(y_test, cat_pred))\n",
    "print()\n",
    "print(confusion_matrix(y_test, cat_pred))\n",
    "print()\n",
    "print(classification_report(y_test, cat_pred))\n",
    "print()"
   ]
  },
  {
   "cell_type": "markdown",
   "metadata": {
    "execution": {
     "iopub.execute_input": "2023-11-27T06:35:00.072589Z",
     "iopub.status.busy": "2023-11-27T06:35:00.071729Z",
     "iopub.status.idle": "2023-11-27T06:35:00.078969Z",
     "shell.execute_reply": "2023-11-27T06:35:00.077924Z",
     "shell.execute_reply.started": "2023-11-27T06:35:00.072554Z"
    }
   },
   "source": [
    "CatBoostClassifier()\n",
    "\n",
    "def objective(trial):\n",
    "    # define parameters\n",
    "    \n",
    "    params = {\n",
    "        'iterations': trial.suggest_int('iterations', 100, 1000),\n",
    "        'depth': trial.suggest_int('depth', 4, 10),\n",
    "        'learning_rate': trial.suggest_loguniform('learning_rate', 0.001, 0.1),\n",
    "        'random_strength': trial.suggest_loguniform('random_strength', 1e-5, 10)\n",
    "    }\n",
    "    \n",
    "    model = CatBoostClassifier(**params, verbose = 0, random_state = 42, task_type='GPU')\n",
    "    model.fit(X_train, y_train)\n",
    "    y_pred = model.predict(X_test)\n",
    "    \n",
    "    accuracy = accuracy_score(y_test, y_pred)\n",
    "    \n",
    "    return accuracy\n",
    "    \n",
    "    "
   ]
  },
  {
   "cell_type": "markdown",
   "metadata": {
    "execution": {
     "iopub.execute_input": "2023-11-27T06:35:00.870045Z",
     "iopub.status.busy": "2023-11-27T06:35:00.869692Z",
     "iopub.status.idle": "2023-11-27T07:04:15.996536Z",
     "shell.execute_reply": "2023-11-27T07:04:15.995034Z",
     "shell.execute_reply.started": "2023-11-27T06:35:00.870016Z"
    }
   },
   "source": [
    "study = optuna.create_study(direction= 'maximize')\n",
    "study.optimize(objective)"
   ]
  },
  {
   "cell_type": "markdown",
   "metadata": {
    "execution": {
     "iopub.execute_input": "2023-11-27T07:04:27.800052Z",
     "iopub.status.busy": "2023-11-27T07:04:27.799692Z",
     "iopub.status.idle": "2023-11-27T07:04:27.805752Z",
     "shell.execute_reply": "2023-11-27T07:04:27.804752Z",
     "shell.execute_reply.started": "2023-11-27T07:04:27.800023Z"
    }
   },
   "source": [
    "# using optuna for hyper parameter tunning for guassian nb\n",
    "\n",
    "def objective(trial):\n",
    "    # hyper parameters for gaussian nb\n",
    "    var_smoothing = trial.suggest_float('var_smoothing', 1e-10, 1e-1, log=True)\n",
    "\n",
    "    model = GaussianNB(var_smoothing=var_smoothing)\n",
    "    model.fit(X_train, y_train)\n",
    "    pred = model.predict(X_test)\n",
    "\n",
    "    score = accuracy_score(y_test, pred)\n",
    "    \n",
    "    return score"
   ]
  },
  {
   "cell_type": "markdown",
   "metadata": {
    "execution": {
     "iopub.execute_input": "2023-11-27T07:04:28.146087Z",
     "iopub.status.busy": "2023-11-27T07:04:28.145199Z"
    }
   },
   "source": [
    "study = optuna.create_study(direction= 'maximize')\n",
    "study.optimize(objective)"
   ]
  },
  {
   "cell_type": "code",
   "execution_count": 33,
   "metadata": {
    "execution": {
     "iopub.execute_input": "2023-11-27T07:08:36.706373Z",
     "iopub.status.busy": "2023-11-27T07:08:36.705958Z",
     "iopub.status.idle": "2023-11-27T07:08:36.719350Z",
     "shell.execute_reply": "2023-11-27T07:08:36.718345Z",
     "shell.execute_reply.started": "2023-11-27T07:08:36.706340Z"
    }
   },
   "outputs": [
    {
     "data": {
      "text/html": [
       "<style>#sk-container-id-3 {color: black;}#sk-container-id-3 pre{padding: 0;}#sk-container-id-3 div.sk-toggleable {background-color: white;}#sk-container-id-3 label.sk-toggleable__label {cursor: pointer;display: block;width: 100%;margin-bottom: 0;padding: 0.3em;box-sizing: border-box;text-align: center;}#sk-container-id-3 label.sk-toggleable__label-arrow:before {content: \"▸\";float: left;margin-right: 0.25em;color: #696969;}#sk-container-id-3 label.sk-toggleable__label-arrow:hover:before {color: black;}#sk-container-id-3 div.sk-estimator:hover label.sk-toggleable__label-arrow:before {color: black;}#sk-container-id-3 div.sk-toggleable__content {max-height: 0;max-width: 0;overflow: hidden;text-align: left;background-color: #f0f8ff;}#sk-container-id-3 div.sk-toggleable__content pre {margin: 0.2em;color: black;border-radius: 0.25em;background-color: #f0f8ff;}#sk-container-id-3 input.sk-toggleable__control:checked~div.sk-toggleable__content {max-height: 200px;max-width: 100%;overflow: auto;}#sk-container-id-3 input.sk-toggleable__control:checked~label.sk-toggleable__label-arrow:before {content: \"▾\";}#sk-container-id-3 div.sk-estimator input.sk-toggleable__control:checked~label.sk-toggleable__label {background-color: #d4ebff;}#sk-container-id-3 div.sk-label input.sk-toggleable__control:checked~label.sk-toggleable__label {background-color: #d4ebff;}#sk-container-id-3 input.sk-hidden--visually {border: 0;clip: rect(1px 1px 1px 1px);clip: rect(1px, 1px, 1px, 1px);height: 1px;margin: -1px;overflow: hidden;padding: 0;position: absolute;width: 1px;}#sk-container-id-3 div.sk-estimator {font-family: monospace;background-color: #f0f8ff;border: 1px dotted black;border-radius: 0.25em;box-sizing: border-box;margin-bottom: 0.5em;}#sk-container-id-3 div.sk-estimator:hover {background-color: #d4ebff;}#sk-container-id-3 div.sk-parallel-item::after {content: \"\";width: 100%;border-bottom: 1px solid gray;flex-grow: 1;}#sk-container-id-3 div.sk-label:hover label.sk-toggleable__label {background-color: #d4ebff;}#sk-container-id-3 div.sk-serial::before {content: \"\";position: absolute;border-left: 1px solid gray;box-sizing: border-box;top: 0;bottom: 0;left: 50%;z-index: 0;}#sk-container-id-3 div.sk-serial {display: flex;flex-direction: column;align-items: center;background-color: white;padding-right: 0.2em;padding-left: 0.2em;position: relative;}#sk-container-id-3 div.sk-item {position: relative;z-index: 1;}#sk-container-id-3 div.sk-parallel {display: flex;align-items: stretch;justify-content: center;background-color: white;position: relative;}#sk-container-id-3 div.sk-item::before, #sk-container-id-3 div.sk-parallel-item::before {content: \"\";position: absolute;border-left: 1px solid gray;box-sizing: border-box;top: 0;bottom: 0;left: 50%;z-index: -1;}#sk-container-id-3 div.sk-parallel-item {display: flex;flex-direction: column;z-index: 1;position: relative;background-color: white;}#sk-container-id-3 div.sk-parallel-item:first-child::after {align-self: flex-end;width: 50%;}#sk-container-id-3 div.sk-parallel-item:last-child::after {align-self: flex-start;width: 50%;}#sk-container-id-3 div.sk-parallel-item:only-child::after {width: 0;}#sk-container-id-3 div.sk-dashed-wrapped {border: 1px dashed gray;margin: 0 0.4em 0.5em 0.4em;box-sizing: border-box;padding-bottom: 0.4em;background-color: white;}#sk-container-id-3 div.sk-label label {font-family: monospace;font-weight: bold;display: inline-block;line-height: 1.2em;}#sk-container-id-3 div.sk-label-container {text-align: center;}#sk-container-id-3 div.sk-container {/* jupyter's `normalize.less` sets `[hidden] { display: none; }` but bootstrap.min.css set `[hidden] { display: none !important; }` so we also need the `!important` here to be able to override the default hidden behavior on the sphinx rendered scikit-learn.org. See: https://github.com/scikit-learn/scikit-learn/issues/21755 */display: inline-block !important;position: relative;}#sk-container-id-3 div.sk-text-repr-fallback {display: none;}</style><div id=\"sk-container-id-3\" class=\"sk-top-container\"><div class=\"sk-text-repr-fallback\"><pre>GaussianNB()</pre><b>In a Jupyter environment, please rerun this cell to show the HTML representation or trust the notebook. <br />On GitHub, the HTML representation is unable to render, please try loading this page with nbviewer.org.</b></div><div class=\"sk-container\" hidden><div class=\"sk-item\"><div class=\"sk-estimator sk-toggleable\"><input class=\"sk-toggleable__control sk-hidden--visually\" id=\"sk-estimator-id-3\" type=\"checkbox\" checked><label for=\"sk-estimator-id-3\" class=\"sk-toggleable__label sk-toggleable__label-arrow\">GaussianNB</label><div class=\"sk-toggleable__content\"><pre>GaussianNB()</pre></div></div></div></div></div>"
      ],
      "text/plain": [
       "GaussianNB()"
      ]
     },
     "execution_count": 33,
     "metadata": {},
     "output_type": "execute_result"
    }
   ],
   "source": [
    "nb_model = GaussianNB()\n",
    "nb_model.fit(X_train, y_train)"
   ]
  },
  {
   "cell_type": "code",
   "execution_count": 34,
   "metadata": {
    "execution": {
     "iopub.execute_input": "2023-11-27T07:08:37.089115Z",
     "iopub.status.busy": "2023-11-27T07:08:37.088775Z",
     "iopub.status.idle": "2023-11-27T07:08:37.113691Z",
     "shell.execute_reply": "2023-11-27T07:08:37.112828Z",
     "shell.execute_reply.started": "2023-11-27T07:08:37.089086Z"
    }
   },
   "outputs": [
    {
     "name": "stdout",
     "output_type": "stream",
     "text": [
      "0.8321428571428572\n",
      "\n",
      "[[87  0 21  4]\n",
      " [ 0 14  0  0]\n",
      " [ 4  0 70  2]\n",
      " [16  0  0 62]]\n",
      "\n",
      "              precision    recall  f1-score   support\n",
      "\n",
      "       rainy       0.81      0.78      0.79       112\n",
      "      spring       1.00      1.00      1.00        14\n",
      "      summer       0.77      0.92      0.84        76\n",
      "      winter       0.91      0.79      0.85        78\n",
      "\n",
      "    accuracy                           0.83       280\n",
      "   macro avg       0.87      0.87      0.87       280\n",
      "weighted avg       0.84      0.83      0.83       280\n",
      "\n",
      "\n"
     ]
    }
   ],
   "source": [
    "nb_pred = nb_model.predict(X_test)\n",
    "\n",
    "print(accuracy_score(y_test, nb_pred))\n",
    "print()\n",
    "print(confusion_matrix(y_test, nb_pred))\n",
    "print()\n",
    "print(classification_report(y_test, nb_pred))\n",
    "print()"
   ]
  },
  {
   "cell_type": "code",
   "execution_count": 35,
   "metadata": {
    "execution": {
     "iopub.execute_input": "2023-11-27T07:08:38.665264Z",
     "iopub.status.busy": "2023-11-27T07:08:38.664798Z",
     "iopub.status.idle": "2023-11-27T07:08:38.670251Z",
     "shell.execute_reply": "2023-11-27T07:08:38.669389Z",
     "shell.execute_reply.started": "2023-11-27T07:08:38.665230Z"
    }
   },
   "outputs": [],
   "source": [
    "# save model\n",
    "with open('cat_model.pkl', 'wb') as file:\n",
    "    pickle.dump(cat_model, file)"
   ]
  },
  {
   "cell_type": "code",
   "execution_count": null,
   "metadata": {},
   "outputs": [],
   "source": []
  }
 ],
 "metadata": {
  "kaggle": {
   "accelerator": "nvidiaTeslaT4",
   "dataSources": [
    {
     "datasetId": 4035804,
     "sourceId": 7018774,
     "sourceType": "datasetVersion"
    },
    {
     "datasetId": 4064421,
     "sourceId": 7060136,
     "sourceType": "datasetVersion"
    }
   ],
   "dockerImageVersionId": 30588,
   "isGpuEnabled": true,
   "isInternetEnabled": true,
   "language": "python",
   "sourceType": "notebook"
  },
  "kernelspec": {
   "display_name": "Python 3 (ipykernel)",
   "language": "python",
   "name": "python3"
  },
  "language_info": {
   "codemirror_mode": {
    "name": "ipython",
    "version": 3
   },
   "file_extension": ".py",
   "mimetype": "text/x-python",
   "name": "python",
   "nbconvert_exporter": "python",
   "pygments_lexer": "ipython3",
   "version": "3.11.2"
  }
 },
 "nbformat": 4,
 "nbformat_minor": 4
}
